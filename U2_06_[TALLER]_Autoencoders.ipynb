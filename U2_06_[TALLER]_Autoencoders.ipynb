{
  "nbformat": 4,
  "nbformat_minor": 0,
  "metadata": {
    "kernelspec": {
      "display_name": "p37",
      "language": "python",
      "name": "p37"
    },
    "language_info": {
      "codemirror_mode": {
        "name": "ipython",
        "version": 3
      },
      "file_extension": ".py",
      "mimetype": "text/x-python",
      "name": "python",
      "nbconvert_exporter": "python",
      "pygments_lexer": "ipython3",
      "version": "3.7.3"
    },
    "colab": {
      "name": "U2.06 - [TALLER] - Autoencoders.ipynb",
      "provenance": [],
      "include_colab_link": true
    }
  },
  "cells": [
    {
      "cell_type": "markdown",
      "metadata": {
        "id": "view-in-github",
        "colab_type": "text"
      },
      "source": [
        "<a href=\"https://colab.research.google.com/github/yuaquintero/DeepLearning/blob/master/U2_06_%5BTALLER%5D_Autoencoders.ipynb\" target=\"_parent\"><img src=\"https://colab.research.google.com/assets/colab-badge.svg\" alt=\"Open In Colab\"/></a>"
      ]
    },
    {
      "cell_type": "code",
      "metadata": {
        "id": "n88W6uq7BIwG",
        "colab_type": "code",
        "colab": {}
      },
      "source": [
        "!wget --no-cache -O init.py -q https://raw.githubusercontent.com/rramosp/2020.deeplearning/master/init.py\n",
        "from init import init; init(force_download=False)"
      ],
      "execution_count": 0,
      "outputs": []
    },
    {
      "cell_type": "code",
      "metadata": {
        "id": "nK9UnphPBIwV",
        "colab_type": "code",
        "outputId": "4ed8d517-066c-4e49-c8e8-305659fa3e0f",
        "colab": {
          "base_uri": "https://localhost:8080/",
          "height": 52
        }
      },
      "source": [
        "import sys\n",
        "if 'google.colab' in sys.modules:\n",
        "    print (\"setting tensorflow version in colab\")\n",
        "    %tensorflow_version 2.x\n",
        "import tensorflow as tf\n",
        "tf.__version__"
      ],
      "execution_count": 0,
      "outputs": [
        {
          "output_type": "stream",
          "text": [
            "setting tensorflow version in colab\n"
          ],
          "name": "stdout"
        },
        {
          "output_type": "execute_result",
          "data": {
            "text/plain": [
              "'2.1.0'"
            ]
          },
          "metadata": {
            "tags": []
          },
          "execution_count": 64
        }
      ]
    },
    {
      "cell_type": "code",
      "metadata": {
        "id": "aNtJTPsSBIwk",
        "colab_type": "code",
        "colab": {}
      },
      "source": [
        "import numpy as np\n",
        "import matplotlib.pyplot as plt\n",
        "import pandas as pd\n",
        "%matplotlib inline"
      ],
      "execution_count": 0,
      "outputs": []
    },
    {
      "cell_type": "code",
      "metadata": {
        "id": "TZEZxINvBIwz",
        "colab_type": "code",
        "outputId": "a5c47d35-b7da-4e6a-fa9c-b5e914b80d7f",
        "colab": {
          "base_uri": "https://localhost:8080/",
          "height": 35
        }
      },
      "source": [
        "mnist = pd.read_csv(\"local/data/mnist1.5k.csv.gz\", compression=\"gzip\", header=None).values\n",
        "X=mnist[:,1:785]/255.\n",
        "y=mnist[:,0]\n",
        "print(\"dimension de las imagenes y las clases\", X.shape, y.shape)"
      ],
      "execution_count": 0,
      "outputs": [
        {
          "output_type": "stream",
          "text": [
            "dimension de las imagenes y las clases (1500, 784) (1500,)\n"
          ],
          "name": "stdout"
        }
      ]
    },
    {
      "cell_type": "code",
      "metadata": {
        "id": "a_cpm-2jBIw8",
        "colab_type": "code",
        "outputId": "027e8997-a6c7-4d1b-94b0-6d6d974b7911",
        "colab": {
          "base_uri": "https://localhost:8080/",
          "height": 368
        }
      },
      "source": [
        "perm = np.random.permutation(list(range(X.shape[0])))[0:50]\n",
        "random_imgs   = X[perm]\n",
        "random_labels = y[perm] \n",
        "fig = plt.figure(figsize=(10,6))\n",
        "for i in range(random_imgs.shape[0]):\n",
        "    ax=fig.add_subplot(5,10,i+1)\n",
        "    plt.imshow(random_imgs[i].reshape(28,28), interpolation=\"nearest\", cmap = plt.cm.Greys_r)\n",
        "    ax.set_title(int(random_labels[i]))\n",
        "    ax.set_xticklabels([])\n",
        "    ax.set_yticklabels([])"
      ],
      "execution_count": 0,
      "outputs": [
        {
          "output_type": "display_data",
          "data": {
            "image/png": "[encoded data removed]",
            "text/plain": [
              "<Figure size 720x432 with 50 Axes>"
            ]
          },
          "metadata": {
            "tags": []
          }
        }
      ]
    },
    {
      "cell_type": "markdown",
      "metadata": {
        "id": "M5OzSqCWBIxE",
        "colab_type": "text"
      },
      "source": [
        "# Autoencoder with small (sparse) activations"
      ]
    },
    {
      "cell_type": "code",
      "metadata": {
        "id": "dJjV_MRoBIxN",
        "colab_type": "code",
        "colab": {}
      },
      "source": [
        "from sklearn.model_selection import train_test_split\n",
        "X_train, X_test, y_train, y_test = train_test_split(X, y, test_size=.2)"
      ],
      "execution_count": 0,
      "outputs": []
    },
    {
      "cell_type": "code",
      "metadata": {
        "id": "Uhl2Xht_BIxV",
        "colab_type": "code",
        "colab": {}
      },
      "source": [
        "from tensorflow.keras import Sequential, Model\n",
        "from tensorflow.keras.layers import Dense, Dropout, Flatten, Input\n",
        "from tensorflow.keras.backend import clear_session\n",
        "from tensorflow.keras.regularizers import l1\n",
        "import tensorflow as tf"
      ],
      "execution_count": 0,
      "outputs": []
    },
    {
      "cell_type": "markdown",
      "metadata": {
        "id": "GP8SqpJ-BIxd",
        "colab_type": "text"
      },
      "source": [
        "## Implement the following loss function\n",
        "\n",
        "given:\n",
        "\n",
        "- $k=50$, latent dimension\n",
        "- $\\mathbf{x}^{(i)} \\in \\mathbb{R}^{784}$\n",
        "- $e(\\mathbf{x}^{(i)}) \\in \\mathbb{R}^{k}$, the encoder\n",
        "- $d(e(\\mathbf{x}^{(i)})) \\in \\mathbb{R}^{784}$, the decoder\n",
        "\n",
        "implement the following cost function\n",
        "\n",
        "$$\\text{loss}(\\mathbf{x}^{(i)}) = \\frac{1}{m}\\sum_m \\big(\\mathbf{x}^{(i)} - d(e(\\mathbf{x}^{(i)}))\\big)^2 + \\beta \\frac{1}{k}\\sum_{k,i} e(\\mathbf{x}^{(i)})$$\n"
      ]
    },
    {
      "cell_type": "code",
      "metadata": {
        "id": "kyo2fJqNBIxe",
        "colab_type": "code",
        "colab": {}
      },
      "source": [
        "from tensorflow.keras import backend as K\n",
        "from tensorflow.keras.losses import mse\n",
        "\n",
        "\n",
        "def get_model(input_dim, code_size, beta=.01):\n",
        "    inputs = Input(shape=input_dim)\n",
        "    encoder = Dense(code_size, activation='relu')(inputs)\n",
        "    outputs = Dense(input_dim, activation='sigmoid')(encoder)\n",
        "\n",
        "    avg_latent_activations = tf.reduce_mean(encoder, axis=0)\n",
        "    loss =tf.reduce_mean((inputs-outputs)**2)+beta*avg_latent_activations\n",
        "\n",
        "    model = Model([inputs], [outputs])    \n",
        "    model.add_loss(loss)\n",
        "\n",
        "    model.compile(optimizer='adam')\n",
        "    return model, encoder, avg_latent_activations"
      ],
      "execution_count": 0,
      "outputs": []
    },
    {
      "cell_type": "code",
      "metadata": {
        "id": "TIXfAnvPBIxo",
        "colab_type": "code",
        "outputId": "e3bb8bb3-4c96-44d5-d95b-e5cbf0cb37d2",
        "colab": {
          "base_uri": "https://localhost:8080/",
          "height": 55
        }
      },
      "source": [
        "model, encoder, avg_latent_activations = get_model(input_dim=X.shape[1], code_size=50, beta=0.05)"
      ],
      "execution_count": 0,
      "outputs": [
        {
          "output_type": "stream",
          "text": [
            "WARNING:tensorflow:Output dense_5 missing from loss dictionary. We assume this was done on purpose. The fit and evaluate APIs will not be expecting any data to be passed to dense_5.\n"
          ],
          "name": "stdout"
        }
      ]
    },
    {
      "cell_type": "markdown",
      "metadata": {
        "id": "SDzJd3X8BIxu",
        "colab_type": "text"
      },
      "source": [
        "try with larger layer, try with more layers"
      ]
    },
    {
      "cell_type": "code",
      "metadata": {
        "scrolled": true,
        "id": "dT_tANSrBIxw",
        "colab_type": "code",
        "outputId": "a0611121-183c-4c39-9793-f05853d38cfe",
        "colab": {
          "base_uri": "https://localhost:8080/",
          "height": 1000
        }
      },
      "source": [
        "model.fit(X_train, epochs=100, batch_size=32)"
      ],
      "execution_count": 0,
      "outputs": [
        {
          "output_type": "stream",
          "text": [
            "Train on 1200 samples\n",
            "Epoch 1/100\n",
            "1200/1200 [==============================] - 0s 324us/sample - loss: 0.2125\n",
            "Epoch 2/100\n",
            "1200/1200 [==============================] - 0s 108us/sample - loss: 0.1227\n",
            "Epoch 3/100\n",
            "1200/1200 [==============================] - 0s 116us/sample - loss: 0.1017\n",
            "Epoch 4/100\n",
            "1200/1200 [==============================] - 0s 115us/sample - loss: 0.0924\n",
            "Epoch 5/100\n",
            "1200/1200 [==============================] - 0s 114us/sample - loss: 0.0833\n",
            "Epoch 6/100\n",
            "1200/1200 [==============================] - 0s 126us/sample - loss: 0.0746\n",
            "Epoch 7/100\n",
            "1200/1200 [==============================] - 0s 117us/sample - loss: 0.0681\n",
            "Epoch 8/100\n",
            "1200/1200 [==============================] - 0s 114us/sample - loss: 0.0640\n",
            "Epoch 9/100\n",
            "1200/1200 [==============================] - 0s 117us/sample - loss: 0.0615\n",
            "Epoch 10/100\n",
            "1200/1200 [==============================] - 0s 118us/sample - loss: 0.0597\n",
            "Epoch 11/100\n",
            "1200/1200 [==============================] - 0s 113us/sample - loss: 0.0584\n",
            "Epoch 12/100\n",
            "1200/1200 [==============================] - 0s 108us/sample - loss: 0.0573\n",
            "Epoch 13/100\n",
            "1200/1200 [==============================] - 0s 109us/sample - loss: 0.0563\n",
            "Epoch 14/100\n",
            "1200/1200 [==============================] - 0s 111us/sample - loss: 0.0554\n",
            "Epoch 15/100\n",
            "1200/1200 [==============================] - 0s 107us/sample - loss: 0.0545\n",
            "Epoch 16/100\n",
            "1200/1200 [==============================] - 0s 111us/sample - loss: 0.0538\n",
            "Epoch 17/100\n",
            "1200/1200 [==============================] - 0s 104us/sample - loss: 0.0531\n",
            "Epoch 18/100\n",
            "1200/1200 [==============================] - 0s 114us/sample - loss: 0.0524\n",
            "Epoch 19/100\n",
            "1200/1200 [==============================] - 0s 113us/sample - loss: 0.0518\n",
            "Epoch 20/100\n",
            "1200/1200 [==============================] - 0s 116us/sample - loss: 0.0511\n",
            "Epoch 21/100\n",
            "1200/1200 [==============================] - 0s 104us/sample - loss: 0.0504\n",
            "Epoch 22/100\n",
            "1200/1200 [==============================] - 0s 107us/sample - loss: 0.0498\n",
            "Epoch 23/100\n",
            "1200/1200 [==============================] - 0s 116us/sample - loss: 0.0493\n",
            "Epoch 24/100\n",
            "1200/1200 [==============================] - 0s 101us/sample - loss: 0.0487\n",
            "Epoch 25/100\n",
            "1200/1200 [==============================] - 0s 113us/sample - loss: 0.0483\n",
            "Epoch 26/100\n",
            "1200/1200 [==============================] - 0s 104us/sample - loss: 0.0478\n",
            "Epoch 27/100\n",
            "1200/1200 [==============================] - 0s 101us/sample - loss: 0.0473\n",
            "Epoch 28/100\n",
            "1200/1200 [==============================] - 0s 116us/sample - loss: 0.0469\n",
            "Epoch 29/100\n",
            "1200/1200 [==============================] - 0s 100us/sample - loss: 0.0465\n",
            "Epoch 30/100\n",
            "1200/1200 [==============================] - 0s 104us/sample - loss: 0.0462\n",
            "Epoch 31/100\n",
            "1200/1200 [==============================] - 0s 107us/sample - loss: 0.0458\n",
            "Epoch 32/100\n",
            "1200/1200 [==============================] - 0s 111us/sample - loss: 0.0455\n",
            "Epoch 33/100\n",
            "1200/1200 [==============================] - 0s 107us/sample - loss: 0.0452\n",
            "Epoch 34/100\n",
            "1200/1200 [==============================] - 0s 103us/sample - loss: 0.0448\n",
            "Epoch 35/100\n",
            "1200/1200 [==============================] - 0s 104us/sample - loss: 0.0445\n",
            "Epoch 36/100\n",
            "1200/1200 [==============================] - 0s 105us/sample - loss: 0.0441\n",
            "Epoch 37/100\n",
            "1200/1200 [==============================] - 0s 110us/sample - loss: 0.0439\n",
            "Epoch 38/100\n",
            "1200/1200 [==============================] - 0s 99us/sample - loss: 0.0436\n",
            "Epoch 39/100\n",
            "1200/1200 [==============================] - 0s 106us/sample - loss: 0.0434\n",
            "Epoch 40/100\n",
            "1200/1200 [==============================] - 0s 116us/sample - loss: 0.0431\n",
            "Epoch 41/100\n",
            "1200/1200 [==============================] - 0s 110us/sample - loss: 0.0429\n",
            "Epoch 42/100\n",
            "1200/1200 [==============================] - 0s 102us/sample - loss: 0.0426\n",
            "Epoch 43/100\n",
            "1200/1200 [==============================] - 0s 105us/sample - loss: 0.0424\n",
            "Epoch 44/100\n",
            "1200/1200 [==============================] - 0s 104us/sample - loss: 0.0422\n",
            "Epoch 45/100\n",
            "1200/1200 [==============================] - 0s 109us/sample - loss: 0.0420\n",
            "Epoch 46/100\n",
            "1200/1200 [==============================] - 0s 110us/sample - loss: 0.0418\n",
            "Epoch 47/100\n",
            "1200/1200 [==============================] - 0s 100us/sample - loss: 0.0416\n",
            "Epoch 48/100\n",
            "1200/1200 [==============================] - 0s 98us/sample - loss: 0.0415\n",
            "Epoch 49/100\n",
            "1200/1200 [==============================] - 0s 112us/sample - loss: 0.0413\n",
            "Epoch 50/100\n",
            "1200/1200 [==============================] - 0s 101us/sample - loss: 0.0411\n",
            "Epoch 51/100\n",
            "1200/1200 [==============================] - 0s 99us/sample - loss: 0.0409\n",
            "Epoch 52/100\n",
            "1200/1200 [==============================] - 0s 97us/sample - loss: 0.0408\n",
            "Epoch 53/100\n",
            "1200/1200 [==============================] - 0s 106us/sample - loss: 0.0406\n",
            "Epoch 54/100\n",
            "1200/1200 [==============================] - 0s 112us/sample - loss: 0.0404\n",
            "Epoch 55/100\n",
            "1200/1200 [==============================] - 0s 99us/sample - loss: 0.0403\n",
            "Epoch 56/100\n",
            "1200/1200 [==============================] - 0s 95us/sample - loss: 0.0401\n",
            "Epoch 57/100\n",
            "1200/1200 [==============================] - 0s 95us/sample - loss: 0.0400\n",
            "Epoch 58/100\n",
            "1200/1200 [==============================] - 0s 88us/sample - loss: 0.0398\n",
            "Epoch 59/100\n",
            "1200/1200 [==============================] - 0s 103us/sample - loss: 0.0397\n",
            "Epoch 60/100\n",
            "1200/1200 [==============================] - 0s 104us/sample - loss: 0.0395\n",
            "Epoch 61/100\n",
            "1200/1200 [==============================] - 0s 118us/sample - loss: 0.0394\n",
            "Epoch 62/100\n",
            "1200/1200 [==============================] - 0s 103us/sample - loss: 0.0392\n",
            "Epoch 63/100\n",
            "1200/1200 [==============================] - 0s 95us/sample - loss: 0.0391\n",
            "Epoch 64/100\n",
            "1200/1200 [==============================] - 0s 105us/sample - loss: 0.0389\n",
            "Epoch 65/100\n",
            "1200/1200 [==============================] - 0s 90us/sample - loss: 0.0388\n",
            "Epoch 66/100\n",
            "1200/1200 [==============================] - 0s 97us/sample - loss: 0.0386\n",
            "Epoch 67/100\n",
            "1200/1200 [==============================] - 0s 98us/sample - loss: 0.0385\n",
            "Epoch 68/100\n",
            "1200/1200 [==============================] - 0s 100us/sample - loss: 0.0384\n",
            "Epoch 69/100\n",
            "1200/1200 [==============================] - 0s 106us/sample - loss: 0.0382\n",
            "Epoch 70/100\n",
            "1200/1200 [==============================] - 0s 97us/sample - loss: 0.0381\n",
            "Epoch 71/100\n",
            "1200/1200 [==============================] - 0s 112us/sample - loss: 0.0380\n",
            "Epoch 72/100\n",
            "1200/1200 [==============================] - 0s 121us/sample - loss: 0.0378\n",
            "Epoch 73/100\n",
            "1200/1200 [==============================] - 0s 106us/sample - loss: 0.0377\n",
            "Epoch 74/100\n",
            "1200/1200 [==============================] - 0s 110us/sample - loss: 0.0376\n",
            "Epoch 75/100\n",
            "1200/1200 [==============================] - 0s 104us/sample - loss: 0.0375\n",
            "Epoch 76/100\n",
            "1200/1200 [==============================] - 0s 121us/sample - loss: 0.0373\n",
            "Epoch 77/100\n",
            "1200/1200 [==============================] - 0s 105us/sample - loss: 0.0372\n",
            "Epoch 78/100\n",
            "1200/1200 [==============================] - 0s 101us/sample - loss: 0.0370\n",
            "Epoch 79/100\n",
            "1200/1200 [==============================] - 0s 103us/sample - loss: 0.0369\n",
            "Epoch 80/100\n",
            "1200/1200 [==============================] - 0s 110us/sample - loss: 0.0367\n",
            "Epoch 81/100\n",
            "1200/1200 [==============================] - 0s 100us/sample - loss: 0.0366\n",
            "Epoch 82/100\n",
            "1200/1200 [==============================] - 0s 103us/sample - loss: 0.0365\n",
            "Epoch 83/100\n",
            "1200/1200 [==============================] - 0s 113us/sample - loss: 0.0363\n",
            "Epoch 84/100\n",
            "1200/1200 [==============================] - 0s 108us/sample - loss: 0.0362\n",
            "Epoch 85/100\n",
            "1200/1200 [==============================] - 0s 107us/sample - loss: 0.0361\n",
            "Epoch 86/100\n",
            "1200/1200 [==============================] - 0s 109us/sample - loss: 0.0360\n",
            "Epoch 87/100\n",
            "1200/1200 [==============================] - 0s 102us/sample - loss: 0.0358\n",
            "Epoch 88/100\n",
            "1200/1200 [==============================] - 0s 104us/sample - loss: 0.0357\n",
            "Epoch 89/100\n",
            "1200/1200 [==============================] - 0s 118us/sample - loss: 0.0357\n",
            "Epoch 90/100\n",
            "1200/1200 [==============================] - 0s 105us/sample - loss: 0.0355\n",
            "Epoch 91/100\n",
            "1200/1200 [==============================] - 0s 99us/sample - loss: 0.0354\n",
            "Epoch 92/100\n",
            "1200/1200 [==============================] - 0s 106us/sample - loss: 0.0353\n",
            "Epoch 93/100\n",
            "1200/1200 [==============================] - 0s 114us/sample - loss: 0.0352\n",
            "Epoch 94/100\n",
            "1200/1200 [==============================] - 0s 109us/sample - loss: 0.0352\n",
            "Epoch 95/100\n",
            "1200/1200 [==============================] - 0s 102us/sample - loss: 0.0351\n",
            "Epoch 96/100\n",
            "1200/1200 [==============================] - 0s 102us/sample - loss: 0.0350\n",
            "Epoch 97/100\n",
            "1200/1200 [==============================] - 0s 109us/sample - loss: 0.0349\n",
            "Epoch 98/100\n",
            "1200/1200 [==============================] - 0s 116us/sample - loss: 0.0348\n",
            "Epoch 99/100\n",
            "1200/1200 [==============================] - 0s 110us/sample - loss: 0.0347\n",
            "Epoch 100/100\n",
            "1200/1200 [==============================] - 0s 113us/sample - loss: 0.0346\n"
          ],
          "name": "stdout"
        },
        {
          "output_type": "execute_result",
          "data": {
            "text/plain": [
              "<tensorflow.python.keras.callbacks.History at 0x7f39d4308940>"
            ]
          },
          "metadata": {
            "tags": []
          },
          "execution_count": 57
        }
      ]
    },
    {
      "cell_type": "code",
      "metadata": {
        "id": "oUgv2hNiBIx0",
        "colab_type": "code",
        "outputId": "1d13e550-9057-4437-ffb9-cbb00fd90524",
        "colab": {
          "base_uri": "https://localhost:8080/",
          "height": 211
        }
      },
      "source": [
        "fl = K.function([model.input], [avg_latent_activations])\n",
        "fl(X_train)"
      ],
      "execution_count": 0,
      "outputs": [
        {
          "output_type": "execute_result",
          "data": {
            "text/plain": [
              "[array([0.32265395, 0.28976473, 0.        , 0.3751445 , 0.        ,\n",
              "        0.        , 0.        , 0.        , 0.        , 0.        ,\n",
              "        0.5896965 , 0.        , 0.        , 0.        , 0.        ,\n",
              "        0.        , 0.43670353, 0.48616502, 0.        , 0.        ,\n",
              "        0.        , 0.3071425 , 0.31703466, 0.        , 0.41073662,\n",
              "        0.        , 0.        , 0.45222065, 0.        , 0.66149664,\n",
              "        0.        , 0.        , 0.        , 0.59942997, 0.5182873 ,\n",
              "        0.5167815 , 0.        , 0.        , 0.        , 0.        ,\n",
              "        0.        , 0.        , 0.5856426 , 0.46812484, 0.59347725,\n",
              "        0.        , 0.        , 0.        , 0.        , 0.57897717],\n",
              "       dtype=float32)]"
            ]
          },
          "metadata": {
            "tags": []
          },
          "execution_count": 59
        }
      ]
    },
    {
      "cell_type": "markdown",
      "metadata": {
        "id": "sXp6dUd8BIx2",
        "colab_type": "text"
      },
      "source": [
        "###  test the reconstruction"
      ]
    },
    {
      "cell_type": "code",
      "metadata": {
        "id": "juCtVAHHBIx3",
        "colab_type": "code",
        "outputId": "bd77fef1-8d42-4d27-bb1b-b29c8e9f73e2",
        "colab": {
          "base_uri": "https://localhost:8080/",
          "height": 294
        }
      },
      "source": [
        "X_sample = np.random.permutation(X_test)[:10]\n",
        "X_pred   = model.predict(X_sample)\n",
        "\n",
        "plt.figure(figsize=(20,5))\n",
        "for i in range(len(X_sample)):\n",
        "    plt.subplot(2,len(X_sample),i+1)\n",
        "    plt.imshow(X_sample[i].reshape(28,28), cmap=plt.cm.Greys_r)\n",
        "    plt.axis(\"off\")\n",
        "    plt.subplot(2,len(X_sample),len(X_sample)+i+1)\n",
        "    plt.imshow(X_pred[i].reshape(28,28), cmap=plt.cm.Greys_r)\n",
        "    plt.axis(\"off\")"
      ],
      "execution_count": 0,
      "outputs": [
        {
          "output_type": "display_data",
          "data": {
            "image/png": "[encoded data removed]",
            "text/plain": [
              "<Figure size 1440x360 with 20 Axes>"
            ]
          },
          "metadata": {
            "tags": []
          }
        }
      ]
    },
    {
      "cell_type": "markdown",
      "metadata": {
        "id": "I-aZq4vdBIx8",
        "colab_type": "text"
      },
      "source": [
        "### show the weights"
      ]
    },
    {
      "cell_type": "code",
      "metadata": {
        "id": "huffT83EBIx9",
        "colab_type": "code",
        "outputId": "12e7b7d8-e43e-43bc-fbcc-7d266cb7ac52",
        "colab": {
          "base_uri": "https://localhost:8080/",
          "height": 35
        }
      },
      "source": [
        "w = model.get_weights()\n",
        "w[0].shape\n"
      ],
      "execution_count": 0,
      "outputs": [
        {
          "output_type": "execute_result",
          "data": {
            "text/plain": [
              "(784, 50)"
            ]
          },
          "metadata": {
            "tags": []
          },
          "execution_count": 61
        }
      ]
    },
    {
      "cell_type": "code",
      "metadata": {
        "id": "mQpzl1k6Y0nR",
        "colab_type": "code",
        "outputId": "d06e5791-9478-4455-de14-b9f91e1e0d8a",
        "colab": {
          "base_uri": "https://localhost:8080/",
          "height": 246
        }
      },
      "source": [
        "print(w[0])"
      ],
      "execution_count": 0,
      "outputs": [
        {
          "output_type": "stream",
          "text": [
            "[[-0.02641262 -0.01695114  0.0117946  ... -0.06852359  0.01817508\n",
            "  -0.04193671]\n",
            " [ 0.04063012 -0.05669631  0.07910267 ...  0.08314223  0.0742638\n",
            "  -0.06453554]\n",
            " [ 0.01553734  0.03335869  0.04847568 ...  0.03918994  0.01196238\n",
            "   0.01321716]\n",
            " ...\n",
            " [-0.06133696  0.04761376  0.05445489 ... -0.01054835  0.00777901\n",
            "   0.0452261 ]\n",
            " [-0.04632701  0.04576511 -0.07174917 ... -0.01064435  0.01043735\n",
            "   0.06595578]\n",
            " [-0.05781184  0.06451937  0.01290578 ... -0.01779015  0.02568775\n",
            "  -0.03877742]]\n"
          ],
          "name": "stdout"
        }
      ]
    },
    {
      "cell_type": "markdown",
      "metadata": {
        "id": "oXNWaYsTBIyI",
        "colab_type": "text"
      },
      "source": [
        "### show activations in latent space\n",
        "\n",
        "you should get something similar to this, indicating a much more sparse representation"
      ]
    },
    {
      "cell_type": "code",
      "metadata": {
        "id": "-n8TqYUJBIyJ",
        "colab_type": "code",
        "outputId": "1de667f3-3891-4201-c573-7ae06cb51470",
        "colab": {
          "base_uri": "https://localhost:8080/",
          "height": 332
        }
      },
      "source": [
        "from IPython.display import Image\n",
        "Image(filename='local/imgs/ae_sparse_activations.png')"
      ],
      "execution_count": 0,
      "outputs": [
        {
          "output_type": "error",
          "ename": "FileNotFoundError",
          "evalue": "ignored",
          "traceback": [
            "\u001b[0;31m---------------------------------------------------------------------------\u001b[0m",
            "\u001b[0;31mFileNotFoundError\u001b[0m                         Traceback (most recent call last)",
            "\u001b[0;32m<ipython-input-65-937c5e86b41c>\u001b[0m in \u001b[0;36m<module>\u001b[0;34m()\u001b[0m\n\u001b[1;32m      1\u001b[0m \u001b[0;32mfrom\u001b[0m \u001b[0mIPython\u001b[0m\u001b[0;34m.\u001b[0m\u001b[0mdisplay\u001b[0m \u001b[0;32mimport\u001b[0m \u001b[0mImage\u001b[0m\u001b[0;34m\u001b[0m\u001b[0;34m\u001b[0m\u001b[0m\n\u001b[0;32m----> 2\u001b[0;31m \u001b[0mImage\u001b[0m\u001b[0;34m(\u001b[0m\u001b[0mfilename\u001b[0m\u001b[0;34m=\u001b[0m\u001b[0;34m'local/imgs/ae_sparse_activations.png'\u001b[0m\u001b[0;34m)\u001b[0m\u001b[0;34m\u001b[0m\u001b[0;34m\u001b[0m\u001b[0m\n\u001b[0m",
            "\u001b[0;32m/usr/local/lib/python3.6/dist-packages/IPython/core/display.py\u001b[0m in \u001b[0;36m__init__\u001b[0;34m(self, data, url, filename, format, embed, width, height, retina, unconfined, metadata)\u001b[0m\n\u001b[1;32m   1019\u001b[0m         \u001b[0mself\u001b[0m\u001b[0;34m.\u001b[0m\u001b[0munconfined\u001b[0m \u001b[0;34m=\u001b[0m \u001b[0munconfined\u001b[0m\u001b[0;34m\u001b[0m\u001b[0;34m\u001b[0m\u001b[0m\n\u001b[1;32m   1020\u001b[0m         \u001b[0mself\u001b[0m\u001b[0;34m.\u001b[0m\u001b[0mmetadata\u001b[0m \u001b[0;34m=\u001b[0m \u001b[0mmetadata\u001b[0m\u001b[0;34m\u001b[0m\u001b[0;34m\u001b[0m\u001b[0m\n\u001b[0;32m-> 1021\u001b[0;31m         \u001b[0msuper\u001b[0m\u001b[0;34m(\u001b[0m\u001b[0mImage\u001b[0m\u001b[0;34m,\u001b[0m \u001b[0mself\u001b[0m\u001b[0;34m)\u001b[0m\u001b[0;34m.\u001b[0m\u001b[0m__init__\u001b[0m\u001b[0;34m(\u001b[0m\u001b[0mdata\u001b[0m\u001b[0;34m=\u001b[0m\u001b[0mdata\u001b[0m\u001b[0;34m,\u001b[0m \u001b[0murl\u001b[0m\u001b[0;34m=\u001b[0m\u001b[0murl\u001b[0m\u001b[0;34m,\u001b[0m \u001b[0mfilename\u001b[0m\u001b[0;34m=\u001b[0m\u001b[0mfilename\u001b[0m\u001b[0;34m)\u001b[0m\u001b[0;34m\u001b[0m\u001b[0;34m\u001b[0m\u001b[0m\n\u001b[0m\u001b[1;32m   1022\u001b[0m \u001b[0;34m\u001b[0m\u001b[0m\n\u001b[1;32m   1023\u001b[0m         \u001b[0;32mif\u001b[0m \u001b[0mretina\u001b[0m\u001b[0;34m:\u001b[0m\u001b[0;34m\u001b[0m\u001b[0;34m\u001b[0m\u001b[0m\n",
            "\u001b[0;32m/usr/local/lib/python3.6/dist-packages/IPython/core/display.py\u001b[0m in \u001b[0;36m__init__\u001b[0;34m(self, data, url, filename)\u001b[0m\n\u001b[1;32m    611\u001b[0m         \u001b[0mself\u001b[0m\u001b[0;34m.\u001b[0m\u001b[0mfilename\u001b[0m \u001b[0;34m=\u001b[0m \u001b[0;32mNone\u001b[0m \u001b[0;32mif\u001b[0m \u001b[0mfilename\u001b[0m \u001b[0;32mis\u001b[0m \u001b[0;32mNone\u001b[0m \u001b[0;32melse\u001b[0m \u001b[0municode_type\u001b[0m\u001b[0;34m(\u001b[0m\u001b[0mfilename\u001b[0m\u001b[0;34m)\u001b[0m\u001b[0;34m\u001b[0m\u001b[0;34m\u001b[0m\u001b[0m\n\u001b[1;32m    612\u001b[0m \u001b[0;34m\u001b[0m\u001b[0m\n\u001b[0;32m--> 613\u001b[0;31m         \u001b[0mself\u001b[0m\u001b[0;34m.\u001b[0m\u001b[0mreload\u001b[0m\u001b[0;34m(\u001b[0m\u001b[0;34m)\u001b[0m\u001b[0;34m\u001b[0m\u001b[0;34m\u001b[0m\u001b[0m\n\u001b[0m\u001b[1;32m    614\u001b[0m         \u001b[0mself\u001b[0m\u001b[0;34m.\u001b[0m\u001b[0m_check_data\u001b[0m\u001b[0;34m(\u001b[0m\u001b[0;34m)\u001b[0m\u001b[0;34m\u001b[0m\u001b[0;34m\u001b[0m\u001b[0m\n\u001b[1;32m    615\u001b[0m \u001b[0;34m\u001b[0m\u001b[0m\n",
            "\u001b[0;32m/usr/local/lib/python3.6/dist-packages/IPython/core/display.py\u001b[0m in \u001b[0;36mreload\u001b[0;34m(self)\u001b[0m\n\u001b[1;32m   1041\u001b[0m         \u001b[0;34m\"\"\"Reload the raw data from file or URL.\"\"\"\u001b[0m\u001b[0;34m\u001b[0m\u001b[0;34m\u001b[0m\u001b[0m\n\u001b[1;32m   1042\u001b[0m         \u001b[0;32mif\u001b[0m \u001b[0mself\u001b[0m\u001b[0;34m.\u001b[0m\u001b[0membed\u001b[0m\u001b[0;34m:\u001b[0m\u001b[0;34m\u001b[0m\u001b[0;34m\u001b[0m\u001b[0m\n\u001b[0;32m-> 1043\u001b[0;31m             \u001b[0msuper\u001b[0m\u001b[0;34m(\u001b[0m\u001b[0mImage\u001b[0m\u001b[0;34m,\u001b[0m\u001b[0mself\u001b[0m\u001b[0;34m)\u001b[0m\u001b[0;34m.\u001b[0m\u001b[0mreload\u001b[0m\u001b[0;34m(\u001b[0m\u001b[0;34m)\u001b[0m\u001b[0;34m\u001b[0m\u001b[0;34m\u001b[0m\u001b[0m\n\u001b[0m\u001b[1;32m   1044\u001b[0m             \u001b[0;32mif\u001b[0m \u001b[0mself\u001b[0m\u001b[0;34m.\u001b[0m\u001b[0mretina\u001b[0m\u001b[0;34m:\u001b[0m\u001b[0;34m\u001b[0m\u001b[0;34m\u001b[0m\u001b[0m\n\u001b[1;32m   1045\u001b[0m                 \u001b[0mself\u001b[0m\u001b[0;34m.\u001b[0m\u001b[0m_retina_shape\u001b[0m\u001b[0;34m(\u001b[0m\u001b[0;34m)\u001b[0m\u001b[0;34m\u001b[0m\u001b[0;34m\u001b[0m\u001b[0m\n",
            "\u001b[0;32m/usr/local/lib/python3.6/dist-packages/IPython/core/display.py\u001b[0m in \u001b[0;36mreload\u001b[0;34m(self)\u001b[0m\n\u001b[1;32m    629\u001b[0m         \u001b[0;34m\"\"\"Reload the raw data from file or URL.\"\"\"\u001b[0m\u001b[0;34m\u001b[0m\u001b[0;34m\u001b[0m\u001b[0m\n\u001b[1;32m    630\u001b[0m         \u001b[0;32mif\u001b[0m \u001b[0mself\u001b[0m\u001b[0;34m.\u001b[0m\u001b[0mfilename\u001b[0m \u001b[0;32mis\u001b[0m \u001b[0;32mnot\u001b[0m \u001b[0;32mNone\u001b[0m\u001b[0;34m:\u001b[0m\u001b[0;34m\u001b[0m\u001b[0;34m\u001b[0m\u001b[0m\n\u001b[0;32m--> 631\u001b[0;31m             \u001b[0;32mwith\u001b[0m \u001b[0mopen\u001b[0m\u001b[0;34m(\u001b[0m\u001b[0mself\u001b[0m\u001b[0;34m.\u001b[0m\u001b[0mfilename\u001b[0m\u001b[0;34m,\u001b[0m \u001b[0mself\u001b[0m\u001b[0;34m.\u001b[0m\u001b[0m_read_flags\u001b[0m\u001b[0;34m)\u001b[0m \u001b[0;32mas\u001b[0m \u001b[0mf\u001b[0m\u001b[0;34m:\u001b[0m\u001b[0;34m\u001b[0m\u001b[0;34m\u001b[0m\u001b[0m\n\u001b[0m\u001b[1;32m    632\u001b[0m                 \u001b[0mself\u001b[0m\u001b[0;34m.\u001b[0m\u001b[0mdata\u001b[0m \u001b[0;34m=\u001b[0m \u001b[0mf\u001b[0m\u001b[0;34m.\u001b[0m\u001b[0mread\u001b[0m\u001b[0;34m(\u001b[0m\u001b[0;34m)\u001b[0m\u001b[0;34m\u001b[0m\u001b[0;34m\u001b[0m\u001b[0m\n\u001b[1;32m    633\u001b[0m         \u001b[0;32melif\u001b[0m \u001b[0mself\u001b[0m\u001b[0;34m.\u001b[0m\u001b[0murl\u001b[0m \u001b[0;32mis\u001b[0m \u001b[0;32mnot\u001b[0m \u001b[0;32mNone\u001b[0m\u001b[0;34m:\u001b[0m\u001b[0;34m\u001b[0m\u001b[0;34m\u001b[0m\u001b[0m\n",
            "\u001b[0;31mFileNotFoundError\u001b[0m: [Errno 2] No such file or directory: 'local/imgs/ae_sparse_activations.png'"
          ]
        }
      ]
    },
    {
      "cell_type": "code",
      "metadata": {
        "id": "hvzswXPVBIyR",
        "colab_type": "code",
        "outputId": "218b4a26-8af3-4b5c-f174-c9b4e97705f7",
        "colab": {
          "base_uri": "https://localhost:8080/",
          "height": 306
        }
      },
      "source": [
        "idxs = np.random.permutation(len(X_test))[:200]\n",
        "idxs = idxs[np.argsort(y_test[idxs])]\n",
        "y_sample = y_test[idxs]\n",
        "X_sample = X_test[idxs]\n",
        "\n",
        "import tensorflow.keras.backend as K\n",
        "l0_output = K.function([model.input], [encoder])\n",
        "X_sample_encoded = l0_output([X_sample])[0]\n",
        "print(\"encoded data size\", X_sample_encoded.shape)\n",
        "plt.figure(figsize=(15,10))\n",
        "plt.imshow(X_sample_encoded.T, cmap=plt.cm.Greys_r, origin=\"bottom\")\n",
        "plt.ylabel(\"component\")\n",
        "plt.xlabel(\"sample class number\")\n",
        "plt.xticks(range(len(y_sample))[::5], y_sample[::5]);\n",
        "print (\"mean activation at encoder %.3f\"%np.mean(X_sample_encoded))"
      ],
      "execution_count": 0,
      "outputs": [
        {
          "output_type": "stream",
          "text": [
            "encoded data size (200, 50)\n",
            "mean activation at encoder 0.171\n"
          ],
          "name": "stdout"
        },
        {
          "output_type": "display_data",
          "data": {
            "image/png": "[encoded data removed]",
            "text/plain": [
              "<Figure size 1080x720 with 1 Axes>"
            ]
          },
          "metadata": {
            "tags": []
          }
        }
      ]
    },
    {
      "cell_type": "markdown",
      "metadata": {
        "id": "a89Ta0rbBIyU",
        "colab_type": "text"
      },
      "source": [
        "### show the distribution of activations in latent space\n",
        "\n",
        "should be quite concentrated at 0"
      ]
    },
    {
      "cell_type": "code",
      "metadata": {
        "id": "mY6I-nUVBIyV",
        "colab_type": "code",
        "outputId": "a70e90a7-2d68-4a29-df78-287511267f17",
        "colab": {
          "base_uri": "https://localhost:8080/",
          "height": 265
        }
      },
      "source": [
        "plt.hist(X_sample_encoded.flatten(), bins=30);"
      ],
      "execution_count": 0,
      "outputs": [
        {
          "output_type": "display_data",
          "data": {
            "image/png": "[encoded data removed]",
            "text/plain": [
              "<Figure size 432x288 with 1 Axes>"
            ]
          },
          "metadata": {
            "tags": []
          }
        }
      ]
    },
    {
      "cell_type": "markdown",
      "metadata": {
        "id": "HhKuQJtJBIyY",
        "colab_type": "text"
      },
      "source": [
        "### show most representative neuron in latent space for each class\n",
        "\n",
        "now, representative neurons must show somewhat distinctive shapes for each number\n"
      ]
    },
    {
      "cell_type": "code",
      "metadata": {
        "id": "L3g8_ihDhyEw",
        "colab_type": "code",
        "outputId": "caaaaf8b-6fe7-4c87-a6d9-de05fce5283c",
        "colab": {
          "base_uri": "https://localhost:8080/",
          "height": 118
        }
      },
      "source": [
        "X_train_encoded = l0_output([X_train])[0]\n",
        "\n",
        "fdecode = K.function([encoder], [model.outputs])\n",
        "plt.figure(figsize=(15,3))\n",
        "for k, i in enumerate(np.unique(y_train)):\n",
        "    plt.subplot(1,10,k+1)\n",
        "    plt.imshow(fdecode(X_train_encoded[y_train==i].mean(axis=0).reshape(1,-1))[0][0][0].reshape(28,28), cmap=plt.cm.Greys_r)\n",
        "    plt.axis(\"off\"); plt.title(\"%d\"%i);"
      ],
      "execution_count": 0,
      "outputs": [
        {
          "output_type": "display_data",
          "data": {
            "image/png": "[encoded data removed]",
            "text/plain": [
              "<Figure size 1080x216 with 10 Axes>"
            ]
          },
          "metadata": {
            "tags": []
          }
        }
      ]
    },
    {
      "cell_type": "code",
      "metadata": {
        "id": "wP13VpbuBIyc",
        "colab_type": "code",
        "outputId": "0e825668-7598-49f4-ebe2-57324a9e4cef",
        "colab": {
          "base_uri": "https://localhost:8080/",
          "height": 294
        }
      },
      "source": [
        "X_train_encoded = l0_output([X_train])[0]\n",
        "plt.figure(figsize=(15,3))\n",
        "for k, i in enumerate(np.unique(y_train)):\n",
        "    plt.subplot(1,10,k+1)\n",
        "    k = np.zeros(50)\n",
        "    most_activated_neuron = np.argmax(X_train_encoded[y_train==i].mean(axis=0))\n",
        "    k[np.argmax(X_train_encoded[y_train==i].mean(axis=0))] = 1\n",
        "    print (\"class %d, most avg activated neuron is %d, with value %.2f\"%(i, most_activated_neuron, np.max(X_train_encoded[y_train==i].mean(axis=0))))\n",
        "    plt.imshow(fdecode(k.reshape(1,-1))[0][0][0].reshape(28,28), cmap=plt.cm.Greys_r)\n",
        "    plt.axis(\"off\"); plt.title(\"%d\"%i);"
      ],
      "execution_count": 0,
      "outputs": [
        {
          "output_type": "stream",
          "text": [
            "class 0, most avg activated neuron is 35, with value 2.63\n",
            "class 1, most avg activated neuron is 29, with value 1.72\n",
            "class 2, most avg activated neuron is 24, with value 1.47\n",
            "class 3, most avg activated neuron is 44, with value 1.99\n",
            "class 4, most avg activated neuron is 10, with value 1.42\n",
            "class 5, most avg activated neuron is 43, with value 1.08\n",
            "class 6, most avg activated neuron is 27, with value 1.62\n",
            "class 7, most avg activated neuron is 34, with value 1.97\n",
            "class 8, most avg activated neuron is 42, with value 1.37\n",
            "class 9, most avg activated neuron is 49, with value 1.12\n"
          ],
          "name": "stdout"
        },
        {
          "output_type": "display_data",
          "data": {
            "image/png": "[encoded data removed]",
            "text/plain": [
              "<Figure size 1080x216 with 10 Axes>"
            ]
          },
          "metadata": {
            "tags": []
          }
        }
      ]
    },
    {
      "cell_type": "code",
      "metadata": {
        "id": "2Dkg6H6GBIye",
        "colab_type": "code",
        "colab": {}
      },
      "source": [
        ""
      ],
      "execution_count": 0,
      "outputs": []
    },
    {
      "cell_type": "code",
      "metadata": {
        "id": "S7IetwykBIyg",
        "colab_type": "code",
        "colab": {}
      },
      "source": [
        ""
      ],
      "execution_count": 0,
      "outputs": []
    },
    {
      "cell_type": "code",
      "metadata": {
        "id": "0SsuKG2DBIyj",
        "colab_type": "code",
        "colab": {}
      },
      "source": [
        ""
      ],
      "execution_count": 0,
      "outputs": []
    }
  ]
}