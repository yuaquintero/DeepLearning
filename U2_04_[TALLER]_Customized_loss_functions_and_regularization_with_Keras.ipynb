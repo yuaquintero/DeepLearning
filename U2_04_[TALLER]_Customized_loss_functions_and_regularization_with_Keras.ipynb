{
  "nbformat": 4,
  "nbformat_minor": 0,
  "metadata": {
    "kernelspec": {
      "display_name": "Python 3",
      "language": "python",
      "name": "python3"
    },
    "language_info": {
      "codemirror_mode": {
        "name": "ipython",
        "version": 3
      },
      "file_extension": ".py",
      "mimetype": "text/x-python",
      "name": "python",
      "nbconvert_exporter": "python",
      "pygments_lexer": "ipython3",
      "version": "3.7.5"
    },
    "colab": {
      "name": "U2.04 [TALLER] Customized loss functions and regularization with Keras.ipynb",
      "provenance": [],
      "collapsed_sections": [],
      "include_colab_link": true
    }
  },
  "cells": [
    {
      "cell_type": "markdown",
      "metadata": {
        "id": "view-in-github",
        "colab_type": "text"
      },
      "source": [
        "<a href=\"https://colab.research.google.com/github/yuaquintero/DeepLearning/blob/master/U2_04_%5BTALLER%5D_Customized_loss_functions_and_regularization_with_Keras.ipynb\" target=\"_parent\"><img src=\"https://colab.research.google.com/assets/colab-badge.svg\" alt=\"Open In Colab\"/></a>"
      ]
    },
    {
      "cell_type": "markdown",
      "metadata": {
        "id": "d4p-KPq249CG",
        "colab_type": "text"
      },
      "source": [
        "## Loading the Fashion MNIST database..."
      ]
    },
    {
      "cell_type": "code",
      "metadata": {
        "id": "Jm-MjZqh49CM",
        "colab_type": "code",
        "colab": {}
      },
      "source": [
        "import os\n",
        "import gzip\n",
        "import numpy as np\n",
        "import matplotlib.pyplot as plt\n",
        "import warnings; warnings.simplefilter('ignore')"
      ],
      "execution_count": 0,
      "outputs": []
    },
    {
      "cell_type": "code",
      "metadata": {
        "id": "OHSTX5GKpQqi",
        "colab_type": "code",
        "outputId": "ffc9630b-7f96-4bd4-be91-1ba43c2b16e2",
        "colab": {
          "base_uri": "https://localhost:8080/",
          "height": 82
        }
      },
      "source": [
        "import tensorflow as tf\n",
        "print(tf.__version__)\n"
      ],
      "execution_count": 2,
      "outputs": [
        {
          "output_type": "display_data",
          "data": {
            "text/html": [
              "<p style=\"color: red;\">\n",
              "The default version of TensorFlow in Colab will soon switch to TensorFlow 2.x.<br>\n",
              "We recommend you <a href=\"https://www.tensorflow.org/guide/migrate\" target=\"_blank\">upgrade</a> now \n",
              "or ensure your notebook will continue to use TensorFlow 1.x via the <code>%tensorflow_version 1.x</code> magic:\n",
              "<a href=\"https://colab.research.google.com/notebooks/tensorflow_version.ipynb\" target=\"_blank\">more info</a>.</p>\n"
            ],
            "text/plain": [
              "<IPython.core.display.HTML object>"
            ]
          },
          "metadata": {
            "tags": []
          }
        },
        {
          "output_type": "stream",
          "text": [
            "1.15.0\n"
          ],
          "name": "stdout"
        }
      ]
    },
    {
      "cell_type": "code",
      "metadata": {
        "id": "bLgfhDnkpy_f",
        "colab_type": "code",
        "colab": {
          "base_uri": "https://localhost:8080/",
          "height": 281
        },
        "outputId": "513af68c-0e76-467d-e413-3389b98807c5"
      },
      "source": [
        "!pip uninstall tensorflow"
      ],
      "execution_count": 3,
      "outputs": [
        {
          "output_type": "stream",
          "text": [
            "Uninstalling tensorflow-1.15.0:\n",
            "  Would remove:\n",
            "    /usr/local/bin/estimator_ckpt_converter\n",
            "    /usr/local/bin/freeze_graph\n",
            "    /usr/local/bin/saved_model_cli\n",
            "    /usr/local/bin/tensorboard\n",
            "    /usr/local/bin/tf_upgrade_v2\n",
            "    /usr/local/bin/tflite_convert\n",
            "    /usr/local/bin/toco\n",
            "    /usr/local/bin/toco_from_protos\n",
            "    /usr/local/lib/python3.6/dist-packages/tensorflow-1.15.0.dist-info/*\n",
            "    /usr/local/lib/python3.6/dist-packages/tensorflow/*\n",
            "    /usr/local/lib/python3.6/dist-packages/tensorflow_core/*\n",
            "Proceed (y/n)? y\n",
            "  Successfully uninstalled tensorflow-1.15.0\n"
          ],
          "name": "stdout"
        }
      ]
    },
    {
      "cell_type": "code",
      "metadata": {
        "id": "J4fPc6UCqDQC",
        "colab_type": "code",
        "colab": {
          "base_uri": "https://localhost:8080/",
          "height": 970
        },
        "outputId": "05903dc0-1d1f-4d0b-b99a-3d2d709c09e0"
      },
      "source": [
        "!pip install tensorflow==2.0.0"
      ],
      "execution_count": 4,
      "outputs": [
        {
          "output_type": "stream",
          "text": [
            "Collecting tensorflow==2.0.0\n",
            "\u001b[?25l  Downloading https://files.pythonhosted.org/packages/46/0f/7bd55361168bb32796b360ad15a25de6966c9c1beb58a8e30c01c8279862/tensorflow-2.0.0-cp36-cp36m-manylinux2010_x86_64.whl (86.3MB)\n",
            "\u001b[K     |████████████████████████████████| 86.3MB 113kB/s \n",
            "\u001b[?25hRequirement already satisfied: grpcio>=1.8.6 in /usr/local/lib/python3.6/dist-packages (from tensorflow==2.0.0) (1.27.1)\n",
            "Requirement already satisfied: keras-preprocessing>=1.0.5 in /usr/local/lib/python3.6/dist-packages (from tensorflow==2.0.0) (1.1.0)\n",
            "Requirement already satisfied: wrapt>=1.11.1 in /usr/local/lib/python3.6/dist-packages (from tensorflow==2.0.0) (1.11.2)\n",
            "Requirement already satisfied: wheel>=0.26 in /usr/local/lib/python3.6/dist-packages (from tensorflow==2.0.0) (0.34.2)\n",
            "Requirement already satisfied: astor>=0.6.0 in /usr/local/lib/python3.6/dist-packages (from tensorflow==2.0.0) (0.8.1)\n",
            "Requirement already satisfied: keras-applications>=1.0.8 in /usr/local/lib/python3.6/dist-packages (from tensorflow==2.0.0) (1.0.8)\n",
            "Requirement already satisfied: numpy<2.0,>=1.16.0 in /usr/local/lib/python3.6/dist-packages (from tensorflow==2.0.0) (1.17.5)\n",
            "Collecting tensorflow-estimator<2.1.0,>=2.0.0\n",
            "\u001b[?25l  Downloading https://files.pythonhosted.org/packages/fc/08/8b927337b7019c374719145d1dceba21a8bb909b93b1ad6f8fb7d22c1ca1/tensorflow_estimator-2.0.1-py2.py3-none-any.whl (449kB)\n",
            "\u001b[K     |████████████████████████████████| 450kB 47.2MB/s \n",
            "\u001b[?25hRequirement already satisfied: absl-py>=0.7.0 in /usr/local/lib/python3.6/dist-packages (from tensorflow==2.0.0) (0.9.0)\n",
            "Requirement already satisfied: gast==0.2.2 in /usr/local/lib/python3.6/dist-packages (from tensorflow==2.0.0) (0.2.2)\n",
            "Requirement already satisfied: google-pasta>=0.1.6 in /usr/local/lib/python3.6/dist-packages (from tensorflow==2.0.0) (0.1.8)\n",
            "Requirement already satisfied: six>=1.10.0 in /usr/local/lib/python3.6/dist-packages (from tensorflow==2.0.0) (1.12.0)\n",
            "Collecting tensorboard<2.1.0,>=2.0.0\n",
            "\u001b[?25l  Downloading https://files.pythonhosted.org/packages/76/54/99b9d5d52d5cb732f099baaaf7740403e83fe6b0cedde940fabd2b13d75a/tensorboard-2.0.2-py3-none-any.whl (3.8MB)\n",
            "\u001b[K     |████████████████████████████████| 3.8MB 47.0MB/s \n",
            "\u001b[?25hRequirement already satisfied: protobuf>=3.6.1 in /usr/local/lib/python3.6/dist-packages (from tensorflow==2.0.0) (3.10.0)\n",
            "Requirement already satisfied: termcolor>=1.1.0 in /usr/local/lib/python3.6/dist-packages (from tensorflow==2.0.0) (1.1.0)\n",
            "Requirement already satisfied: opt-einsum>=2.3.2 in /usr/local/lib/python3.6/dist-packages (from tensorflow==2.0.0) (3.1.0)\n",
            "Requirement already satisfied: h5py in /usr/local/lib/python3.6/dist-packages (from keras-applications>=1.0.8->tensorflow==2.0.0) (2.8.0)\n",
            "Requirement already satisfied: markdown>=2.6.8 in /usr/local/lib/python3.6/dist-packages (from tensorboard<2.1.0,>=2.0.0->tensorflow==2.0.0) (3.2.1)\n",
            "Requirement already satisfied: setuptools>=41.0.0 in /usr/local/lib/python3.6/dist-packages (from tensorboard<2.1.0,>=2.0.0->tensorflow==2.0.0) (45.1.0)\n",
            "Requirement already satisfied: google-auth-oauthlib<0.5,>=0.4.1 in /usr/local/lib/python3.6/dist-packages (from tensorboard<2.1.0,>=2.0.0->tensorflow==2.0.0) (0.4.1)\n",
            "Requirement already satisfied: requests<3,>=2.21.0 in /usr/local/lib/python3.6/dist-packages (from tensorboard<2.1.0,>=2.0.0->tensorflow==2.0.0) (2.21.0)\n",
            "Requirement already satisfied: google-auth<2,>=1.6.3 in /usr/local/lib/python3.6/dist-packages (from tensorboard<2.1.0,>=2.0.0->tensorflow==2.0.0) (1.7.2)\n",
            "Requirement already satisfied: werkzeug>=0.11.15 in /usr/local/lib/python3.6/dist-packages (from tensorboard<2.1.0,>=2.0.0->tensorflow==2.0.0) (1.0.0)\n",
            "Requirement already satisfied: requests-oauthlib>=0.7.0 in /usr/local/lib/python3.6/dist-packages (from google-auth-oauthlib<0.5,>=0.4.1->tensorboard<2.1.0,>=2.0.0->tensorflow==2.0.0) (1.3.0)\n",
            "Requirement already satisfied: urllib3<1.25,>=1.21.1 in /usr/local/lib/python3.6/dist-packages (from requests<3,>=2.21.0->tensorboard<2.1.0,>=2.0.0->tensorflow==2.0.0) (1.24.3)\n",
            "Requirement already satisfied: idna<2.9,>=2.5 in /usr/local/lib/python3.6/dist-packages (from requests<3,>=2.21.0->tensorboard<2.1.0,>=2.0.0->tensorflow==2.0.0) (2.8)\n",
            "Requirement already satisfied: chardet<3.1.0,>=3.0.2 in /usr/local/lib/python3.6/dist-packages (from requests<3,>=2.21.0->tensorboard<2.1.0,>=2.0.0->tensorflow==2.0.0) (3.0.4)\n",
            "Requirement already satisfied: certifi>=2017.4.17 in /usr/local/lib/python3.6/dist-packages (from requests<3,>=2.21.0->tensorboard<2.1.0,>=2.0.0->tensorflow==2.0.0) (2019.11.28)\n",
            "Requirement already satisfied: cachetools<3.2,>=2.0.0 in /usr/local/lib/python3.6/dist-packages (from google-auth<2,>=1.6.3->tensorboard<2.1.0,>=2.0.0->tensorflow==2.0.0) (3.1.1)\n",
            "Requirement already satisfied: rsa<4.1,>=3.1.4 in /usr/local/lib/python3.6/dist-packages (from google-auth<2,>=1.6.3->tensorboard<2.1.0,>=2.0.0->tensorflow==2.0.0) (4.0)\n",
            "Requirement already satisfied: pyasn1-modules>=0.2.1 in /usr/local/lib/python3.6/dist-packages (from google-auth<2,>=1.6.3->tensorboard<2.1.0,>=2.0.0->tensorflow==2.0.0) (0.2.8)\n",
            "Requirement already satisfied: oauthlib>=3.0.0 in /usr/local/lib/python3.6/dist-packages (from requests-oauthlib>=0.7.0->google-auth-oauthlib<0.5,>=0.4.1->tensorboard<2.1.0,>=2.0.0->tensorflow==2.0.0) (3.1.0)\n",
            "Requirement already satisfied: pyasn1>=0.1.3 in /usr/local/lib/python3.6/dist-packages (from rsa<4.1,>=3.1.4->google-auth<2,>=1.6.3->tensorboard<2.1.0,>=2.0.0->tensorflow==2.0.0) (0.4.8)\n",
            "Installing collected packages: tensorflow-estimator, tensorboard, tensorflow\n",
            "  Found existing installation: tensorflow-estimator 1.15.1\n",
            "    Uninstalling tensorflow-estimator-1.15.1:\n",
            "      Successfully uninstalled tensorflow-estimator-1.15.1\n",
            "  Found existing installation: tensorboard 1.15.0\n",
            "    Uninstalling tensorboard-1.15.0:\n",
            "      Successfully uninstalled tensorboard-1.15.0\n",
            "Successfully installed tensorboard-2.0.2 tensorflow-2.0.0 tensorflow-estimator-2.0.1\n"
          ],
          "name": "stdout"
        },
        {
          "output_type": "display_data",
          "data": {
            "application/vnd.colab-display-data+json": {
              "pip_warning": {
                "packages": [
                  "tensorboard",
                  "tensorflow",
                  "tensorflow_core",
                  "tensorflow_estimator"
                ]
              }
            }
          },
          "metadata": {
            "tags": []
          }
        }
      ]
    },
    {
      "cell_type": "code",
      "metadata": {
        "id": "zAKkhqYX49Cb",
        "colab_type": "code",
        "colab": {
          "base_uri": "https://localhost:8080/",
          "height": 158
        },
        "outputId": "43bb21cc-e9d1-4ae5-9aab-5b3298f2a0a5"
      },
      "source": [
        "from tensorflow.keras import datasets\n",
        "(x_train, y_train), (x_test, y_test) = datasets.fashion_mnist.load_data()\n",
        "X_train = x_train.reshape(x_train.shape[0],x_train.shape[1]*x_train.shape[2])\n",
        "X_test = x_test.reshape(x_test.shape[0],x_test.shape[1]*x_test.shape[2])"
      ],
      "execution_count": 1,
      "outputs": [
        {
          "output_type": "stream",
          "text": [
            "Downloading data from https://storage.googleapis.com/tensorflow/tf-keras-datasets/train-labels-idx1-ubyte.gz\n",
            "32768/29515 [=================================] - 0s 0us/step\n",
            "Downloading data from https://storage.googleapis.com/tensorflow/tf-keras-datasets/train-images-idx3-ubyte.gz\n",
            "26427392/26421880 [==============================] - 0s 0us/step\n",
            "Downloading data from https://storage.googleapis.com/tensorflow/tf-keras-datasets/t10k-labels-idx1-ubyte.gz\n",
            "8192/5148 [===============================================] - 0s 0us/step\n",
            "Downloading data from https://storage.googleapis.com/tensorflow/tf-keras-datasets/t10k-images-idx3-ubyte.gz\n",
            "4423680/4422102 [==============================] - 0s 0us/step\n"
          ],
          "name": "stdout"
        }
      ]
    },
    {
      "cell_type": "code",
      "metadata": {
        "id": "QO9ZHuic49Cx",
        "colab_type": "code",
        "colab": {}
      },
      "source": [
        "!pip install keras"
      ],
      "execution_count": 0,
      "outputs": []
    },
    {
      "cell_type": "code",
      "metadata": {
        "id": "jutQgdU_49DA",
        "colab_type": "code",
        "colab": {}
      },
      "source": [
        "import tensorflow as tf\n",
        "from keras.utils import np_utils\n",
        "from sklearn.preprocessing import StandardScaler\n",
        "\n",
        "input_dim = X_train.shape[1]\n",
        "\n",
        "scaler = StandardScaler()\n",
        "X_trainN = scaler.fit_transform(X_train)\n",
        "X_testN = scaler.transform(X_test)\n",
        "\n",
        "# convert list of labels to binary class matrix\n",
        "y_trainOHE = np_utils.to_categorical(y_train)\n",
        "nb_classes = y_trainOHE.shape[1]"
      ],
      "execution_count": 0,
      "outputs": []
    },
    {
      "cell_type": "markdown",
      "metadata": {
        "id": "mSNIjLJJ49DF",
        "colab_type": "text"
      },
      "source": [
        "## Exercises\n",
        "\n",
        "### 1.1 Regularization\n",
        "\n",
        "1.1.1 Define a new model using the keras sequential API. The model must have four hidden layers with the following neurons [128,64,32,16]. For all the hidden layers use the 'relu' activation function."
      ]
    },
    {
      "cell_type": "code",
      "metadata": {
        "id": "o0xx7mzO49DG",
        "colab_type": "code",
        "colab": {}
      },
      "source": [
        "from numpy.random import seed\n",
        "from tensorflow.keras import regularizers\n",
        "seed(1)\n",
        "tf.random.set_seed(2)\n",
        "from tensorflow.keras.models import Sequential\n",
        "from tensorflow.keras.layers import Dense, Activation\n",
        "#del model\n",
        "model = Sequential()\n",
        "model.add(Dense(128, input_dim=input_dim))\n",
        "model.add(Activation('relu'))\n",
        "model.add(Dense(64))\n",
        "model.add(Activation('relu'))\n",
        "model.add(Dense(32))\n",
        "model.add(Activation('relu'))\n",
        "model.add(Dense(16))\n",
        "model.add(Activation('relu'))\n",
        "model.add(Dense(nb_classes, activation='softmax'))\n"
      ],
      "execution_count": 0,
      "outputs": []
    },
    {
      "cell_type": "markdown",
      "metadata": {
        "id": "KF-LhY1h49DU",
        "colab_type": "text"
      },
      "source": [
        "Run the following cell to train and test the model."
      ]
    },
    {
      "cell_type": "code",
      "metadata": {
        "id": "jzjJrYh949DY",
        "colab_type": "code",
        "outputId": "84bd7d28-a017-4002-c562-3e95f06ccfaf",
        "colab": {
          "base_uri": "https://localhost:8080/",
          "height": 35
        }
      },
      "source": [
        "from tensorflow.keras import optimizers\n",
        "\n",
        "# or instantiate an optimizer before passing it to model.compile\n",
        "sgd = optimizers.SGD(lr=0.01, decay=1e-6, momentum=0.9, nesterov=False)\n",
        "model.compile(loss='categorical_crossentropy', optimizer=sgd,metrics=['acc'])\n",
        "history= model.fit(X_trainN[:500,:], y_trainOHE[:500,:], epochs=1000, batch_size=16, validation_split=0, verbose=0)\n",
        "\n",
        "preds = model.predict(X_testN, verbose=0)\n",
        "preds = np.argmax(preds,axis=1)\n",
        "Accuracy = np.mean(preds == y_test)\n",
        "print('Accuracy = ', Accuracy*100, '%')"
      ],
      "execution_count": 11,
      "outputs": [
        {
          "output_type": "stream",
          "text": [
            "Accuracy =  78.55 %\n"
          ],
          "name": "stdout"
        }
      ]
    },
    {
      "cell_type": "markdown",
      "metadata": {
        "id": "rcNsBAhd49Dg",
        "colab_type": "text"
      },
      "source": [
        "Create a graph with the histogram of the network weigths in the first hidden layer"
      ]
    },
    {
      "cell_type": "code",
      "metadata": {
        "id": "BSiHfBfyAb6O",
        "colab_type": "code",
        "outputId": "70abff8b-9f4b-4348-9e5e-5ecedba6b22a",
        "colab": {
          "base_uri": "https://localhost:8080/",
          "height": 35
        }
      },
      "source": [
        "weight_0=model.layers[0].get_weights()[0]\n",
        "len(weight_0)\n",
        "w_min = np.min(weight_0)\n",
        "w_max = np.max(weight_0)\n",
        "print(weight_0.shape)\n"
      ],
      "execution_count": 12,
      "outputs": [
        {
          "output_type": "stream",
          "text": [
            "(784, 128)\n"
          ],
          "name": "stdout"
        }
      ]
    },
    {
      "cell_type": "code",
      "metadata": {
        "id": "N3HujURLfGGo",
        "colab_type": "code",
        "colab": {}
      },
      "source": [
        "bias_0=model.layers[0].get_weights()[1]"
      ],
      "execution_count": 0,
      "outputs": []
    },
    {
      "cell_type": "code",
      "metadata": {
        "id": "pcsi8-znfY78",
        "colab_type": "code",
        "colab": {
          "base_uri": "https://localhost:8080/",
          "height": 35
        },
        "outputId": "67c45254-cedb-483c-84e5-0edbc84156ec"
      },
      "source": [
        "print(bias_0.shape)"
      ],
      "execution_count": 14,
      "outputs": [
        {
          "output_type": "stream",
          "text": [
            "(128,)\n"
          ],
          "name": "stdout"
        }
      ]
    },
    {
      "cell_type": "code",
      "metadata": {
        "id": "LcETu4YDZ9zG",
        "colab_type": "code",
        "outputId": "f08ada03-47bd-4a1a-f4d5-714e8c6b1fd7",
        "colab": {
          "base_uri": "https://localhost:8080/",
          "height": 35
        }
      },
      "source": [
        "print(w_max)"
      ],
      "execution_count": 0,
      "outputs": [
        {
          "output_type": "stream",
          "text": [
            "0.20500512\n"
          ],
          "name": "stdout"
        }
      ]
    },
    {
      "cell_type": "code",
      "metadata": {
        "id": "fulZWm-GaDIk",
        "colab_type": "code",
        "outputId": "d169003d-a2cb-450d-8d55-72de244ba0fd",
        "colab": {
          "base_uri": "https://localhost:8080/",
          "height": 35
        }
      },
      "source": [
        "print(w_min)"
      ],
      "execution_count": 0,
      "outputs": [
        {
          "output_type": "stream",
          "text": [
            "-0.19355647\n"
          ],
          "name": "stdout"
        }
      ]
    },
    {
      "cell_type": "code",
      "metadata": {
        "id": "MsIqu2m0plKG",
        "colab_type": "code",
        "outputId": "fff12040-e40a-4976-ff6a-0d09f50ece3d",
        "colab": {
          "base_uri": "https://localhost:8080/",
          "height": 299
        }
      },
      "source": [
        "plt.hist(weight_0.flatten(),bins=200);\n",
        "plt.grid()\n",
        "plt.title(\"Weigths in the first hidden layer\")\n",
        "plt.xlim(-0.20,0.20)"
      ],
      "execution_count": 15,
      "outputs": [
        {
          "output_type": "execute_result",
          "data": {
            "text/plain": [
              "(-0.2, 0.2)"
            ]
          },
          "metadata": {
            "tags": []
          },
          "execution_count": 15
        },
        {
          "output_type": "display_data",
          "data": {
            "image/png": "[encoded data removed]",
            "text/plain": [
              "<Figure size 432x288 with 1 Axes>"
            ]
          },
          "metadata": {
            "tags": []
          }
        }
      ]
    },
    {
      "cell_type": "markdown",
      "metadata": {
        "id": "iK45p-PV49Dn",
        "colab_type": "text"
      },
      "source": [
        "1.1.2 Modify the former model to include $L_2$ regularization to every layer of the former model. Define a regularization parameter equal to 0.0001. "
      ]
    },
    {
      "cell_type": "code",
      "metadata": {
        "id": "xCYaIU00rN0P",
        "colab_type": "code",
        "colab": {}
      },
      "source": [
        "seed(1)\n",
        "tf.random.set_seed(2)\n",
        "from keras import regularizers\n",
        "\n",
        "del model\n",
        "model = Sequential()\n",
        "model.add(Dense(128, input_dim=input_dim,\n",
        "                kernel_regularizer=regularizers.l2(0.0001)))\n",
        "model.add(Activation('relu'))\n",
        "model.add(Dense(64, Activation('relu'),\n",
        "                kernel_regularizer=regularizers.l2(0.0001)))\n",
        "model.add(Dense(32, Activation('relu'),\n",
        "                kernel_regularizer=regularizers.l2(0.0001)))\n",
        "model.add(Dense(16, Activation('relu'),\n",
        "                kernel_regularizer=regularizers.l2(0.0001)))\n",
        "model.add(Dense(nb_classes, activation='softmax'))"
      ],
      "execution_count": 0,
      "outputs": []
    },
    {
      "cell_type": "markdown",
      "metadata": {
        "id": "inPCizJ949Dr",
        "colab_type": "text"
      },
      "source": [
        "Run the following cell to train and test the model"
      ]
    },
    {
      "cell_type": "code",
      "metadata": {
        "id": "Dd2iAYX049Dt",
        "colab_type": "code",
        "outputId": "d96658e9-257e-4592-b222-5398c58e5fc0",
        "colab": {
          "base_uri": "https://localhost:8080/",
          "height": 35
        }
      },
      "source": [
        "# or instantiate an optimizer before passing it to model.compile\n",
        "sgd = optimizers.SGD(lr=0.01, decay=1e-6, momentum=0.9, nesterov=True)\n",
        "model.compile(loss='categorical_crossentropy', optimizer=sgd)\n",
        "model.fit(X_trainN[:500,:], y_trainOHE[:500,:], epochs=1000, batch_size=16, validation_split=0, verbose=0)\n",
        "\n",
        "preds = model.predict(X_testN, verbose=0)\n",
        "preds = np.argmax(preds,axis=1)\n",
        "Accuracy = np.mean(preds == y_test)\n",
        "print('Accuracy = ', Accuracy*100, '%')"
      ],
      "execution_count": 22,
      "outputs": [
        {
          "output_type": "stream",
          "text": [
            "Accuracy =  78.92 %\n"
          ],
          "name": "stdout"
        }
      ]
    },
    {
      "cell_type": "markdown",
      "metadata": {
        "id": "xK1wraXK49D1",
        "colab_type": "text"
      },
      "source": [
        "Create a graph with the histogram of the network weigths in the first hidden layer. Compare it with the histogram obtained in the previous exercise. Is there any effect due to the regularization?"
      ]
    },
    {
      "cell_type": "code",
      "metadata": {
        "id": "R1cry6PGrp5-",
        "colab_type": "code",
        "outputId": "735b92a2-c467-45f1-dde7-dc855dcc7634",
        "colab": {
          "base_uri": "https://localhost:8080/",
          "height": 35
        }
      },
      "source": [
        "weight_l2=model.layers[0].get_weights()[0]\n",
        "len(weight_0)\n",
        "w_min_l2 = np.min(weight_l2)\n",
        "w_max_l2 = np.max(weight_l2)\n",
        "print(weight_l2.shape)\n"
      ],
      "execution_count": 25,
      "outputs": [
        {
          "output_type": "stream",
          "text": [
            "(784, 128)\n"
          ],
          "name": "stdout"
        }
      ]
    },
    {
      "cell_type": "code",
      "metadata": {
        "id": "vetCSst_3zcP",
        "colab_type": "code",
        "outputId": "49a5cb8d-d3f3-45d8-d890-c00c82931308",
        "colab": {
          "base_uri": "https://localhost:8080/",
          "height": 35
        }
      },
      "source": [
        "print(w_min_l2 )"
      ],
      "execution_count": 0,
      "outputs": [
        {
          "output_type": "stream",
          "text": [
            "-0.13883986\n"
          ],
          "name": "stdout"
        }
      ]
    },
    {
      "cell_type": "code",
      "metadata": {
        "id": "KoaB3FHg34oX",
        "colab_type": "code",
        "outputId": "799421ae-c510-4fbd-e72a-f5623bd62a47",
        "colab": {
          "base_uri": "https://localhost:8080/",
          "height": 35
        }
      },
      "source": [
        "print(w_max_l2 )"
      ],
      "execution_count": 0,
      "outputs": [
        {
          "output_type": "stream",
          "text": [
            "0.11803951\n"
          ],
          "name": "stdout"
        }
      ]
    },
    {
      "cell_type": "code",
      "metadata": {
        "id": "tsBk30Gerq0v",
        "colab_type": "code",
        "outputId": "46867f1b-6ac8-4bb2-fa9d-3a75380d5c3d",
        "colab": {
          "base_uri": "https://localhost:8080/",
          "height": 299
        }
      },
      "source": [
        "plt.hist(weight_l2.flatten(),bins=200);\n",
        "plt.grid()\n",
        "plt.title(\"Weigths in the first hidden layer with L2 regularization\")"
      ],
      "execution_count": 0,
      "outputs": [
        {
          "output_type": "execute_result",
          "data": {
            "text/plain": [
              "Text(0.5, 1.0, 'Weigths in the first hidden layer with L2 regularization')"
            ]
          },
          "metadata": {
            "tags": []
          },
          "execution_count": 106
        },
        {
          "output_type": "display_data",
          "data": {
            "image/png": "[encoded data removed]",
            "text/plain": [
              "<Figure size 432x288 with 1 Axes>"
            ]
          },
          "metadata": {
            "tags": []
          }
        }
      ]
    },
    {
      "cell_type": "code",
      "metadata": {
        "id": "enEBkm1d49D5",
        "colab_type": "code",
        "colab": {}
      },
      "source": [
        "plt....."
      ],
      "execution_count": 0,
      "outputs": []
    },
    {
      "cell_type": "markdown",
      "metadata": {
        "id": "UiWU3anE49D-",
        "colab_type": "text"
      },
      "source": [
        "1.1.3 Define a new model using the keras sequential API including $L_1$ and $L_2$ regularization methods for every layer. Define a regularization parameter equal to 0.0001 for both regularization terms."
      ]
    },
    {
      "cell_type": "code",
      "metadata": {
        "id": "bf-koe8q49D_",
        "colab_type": "code",
        "colab": {}
      },
      "source": [
        "seed(1)\n",
        "tf.random.set_seed(2)\n",
        "\n",
        "del model\n",
        "\n",
        "model = Sequential()\n",
        "model.add(Dense(128, input_dim=input_dim,\n",
        "                kernel_regularizer=regularizers.l1_l2(l1=0.0001, l2=0.0001)))\n",
        "model.add(Dense(64, Activation('relu'),\n",
        "                kernel_regularizer=regularizers.l1_l2(l1=0.0001, l2=0.0001)))\n",
        "model.add(Dense(32, Activation('relu'),\n",
        "                kernel_regularizer=regularizers.l1_l2(l1=0.0001, l2=0.0001)))\n",
        "model.add(Dense(16, Activation('relu'),\n",
        "                kernel_regularizer=regularizers.l1_l2(l1=0.0001, l2=0.0001)))\n",
        "model.add(Dense(nb_classes, activation='softmax'))"
      ],
      "execution_count": 0,
      "outputs": []
    },
    {
      "cell_type": "markdown",
      "metadata": {
        "id": "ACyFSck649ED",
        "colab_type": "text"
      },
      "source": [
        "Run the following cell to train the model and estimate the accuracy."
      ]
    },
    {
      "cell_type": "code",
      "metadata": {
        "id": "KOC0F3Eq49EF",
        "colab_type": "code",
        "outputId": "30f1c14c-e1d7-4d17-8d82-84573c95f148",
        "colab": {
          "base_uri": "https://localhost:8080/",
          "height": 35
        }
      },
      "source": [
        "# or instantiate an optimizer before passing it to model.compile\n",
        "sgd = optimizers.SGD(lr=0.01, decay=1e-6, momentum=0.9, nesterov=True)\n",
        "model.compile(loss='categorical_crossentropy', optimizer=sgd)\n",
        "model.fit(X_trainN[:500,:], y_trainOHE[:500,:], epochs=1000, batch_size=16, validation_split=0, verbose=0)\n",
        "\n",
        "preds = model.predict(X_testN, verbose=0)\n",
        "preds = np.argmax(preds,axis=1)\n",
        "Accuracy = np.mean(preds == y_test)\n",
        "print('Accuracy = ', Accuracy*100, '%')"
      ],
      "execution_count": 27,
      "outputs": [
        {
          "output_type": "stream",
          "text": [
            "Accuracy =  76.02 %\n"
          ],
          "name": "stdout"
        }
      ]
    },
    {
      "cell_type": "markdown",
      "metadata": {
        "id": "osfPNP3G49EI",
        "colab_type": "text"
      },
      "source": [
        "Create a graph with the histogram of the network weigths in the first hidden layer. Compare it with the histograms obtained in the previous exercises. What is the effect of applying $L_1$ regularization?"
      ]
    },
    {
      "cell_type": "code",
      "metadata": {
        "id": "dfYpUjDYCGBi",
        "colab_type": "code",
        "outputId": "8da017b7-01d3-40b2-acee-8d827e25520e",
        "colab": {
          "base_uri": "https://localhost:8080/",
          "height": 35
        }
      },
      "source": [
        "weight_l2_l1=model.layers[0].get_weights()[0]\n",
        "len(weight_l2_l1)\n",
        "w_min_l2_l1 = np.min(weight_l2_l1)\n",
        "w_max_l2_l1  = np.max(weight_l2_l1)\n",
        "print(weight_l2_l1.shape)"
      ],
      "execution_count": 28,
      "outputs": [
        {
          "output_type": "stream",
          "text": [
            "(784, 128)\n"
          ],
          "name": "stdout"
        }
      ]
    },
    {
      "cell_type": "code",
      "metadata": {
        "id": "khTEe7ZlCqtd",
        "colab_type": "code",
        "outputId": "ba2abdeb-32c6-416c-a5e7-7756afbfcb99",
        "colab": {
          "base_uri": "https://localhost:8080/",
          "height": 35
        }
      },
      "source": [
        "print(w_min_l2_l1)"
      ],
      "execution_count": 29,
      "outputs": [
        {
          "output_type": "stream",
          "text": [
            "-0.5062113\n"
          ],
          "name": "stdout"
        }
      ]
    },
    {
      "cell_type": "code",
      "metadata": {
        "id": "8SNkvIO0C5kH",
        "colab_type": "code",
        "outputId": "32d6fa5b-573b-437f-eed0-f861786b62d3",
        "colab": {
          "base_uri": "https://localhost:8080/",
          "height": 35
        }
      },
      "source": [
        "print(w_max_l2_l1)"
      ],
      "execution_count": 30,
      "outputs": [
        {
          "output_type": "stream",
          "text": [
            "0.4407292\n"
          ],
          "name": "stdout"
        }
      ]
    },
    {
      "cell_type": "code",
      "metadata": {
        "id": "TlsFOz4wCQIg",
        "colab_type": "code",
        "outputId": "d716dfa2-124d-4f51-8b8e-7a4fe4d67415",
        "colab": {
          "base_uri": "https://localhost:8080/",
          "height": 299
        }
      },
      "source": [
        "plt.hist(weight_l2_l1.flatten(),bins=30);\n",
        "plt.grid()\n",
        "plt.title(\"Weigths in the first hidden layer with L2 and L1 regularization\")"
      ],
      "execution_count": 34,
      "outputs": [
        {
          "output_type": "execute_result",
          "data": {
            "text/plain": [
              "Text(0.5, 1.0, 'Weigths in the first hidden layer with L2 and L1 regularization')"
            ]
          },
          "metadata": {
            "tags": []
          },
          "execution_count": 34
        },
        {
          "output_type": "display_data",
          "data": {
            "image/png": "[encoded data removed]",
            "text/plain": [
              "<Figure size 432x288 with 1 Axes>"
            ]
          },
          "metadata": {
            "tags": []
          }
        }
      ]
    },
    {
      "cell_type": "markdown",
      "metadata": {
        "id": "juNG7xkhBv9U",
        "colab_type": "text"
      },
      "source": [
        "##1.2 Customized loss function"
      ]
    },
    {
      "cell_type": "code",
      "metadata": {
        "id": "_w63m8SS49EK",
        "colab_type": "code",
        "colab": {}
      },
      "source": [
        "#Example MSE\n",
        "from tensorflow.keras import backend as K\n",
        "\n",
        "def mean_squared_error(y_true, y_pred):\n",
        "    return K.mean(K.square(y_pred - y_true), axis=-1)"
      ],
      "execution_count": 0,
      "outputs": []
    },
    {
      "cell_type": "code",
      "metadata": {
        "id": "HriwzOeGlKY7",
        "colab_type": "code",
        "colab": {}
      },
      "source": [
        ""
      ],
      "execution_count": 0,
      "outputs": []
    },
    {
      "cell_type": "markdown",
      "metadata": {
        "id": "lFNzSJss49ER",
        "colab_type": "text"
      },
      "source": [
        "1.2.1 Use the backend component of keras (https://keras.io/backend/) to define the following loss function and use it to train the model.\n",
        "\n",
        "$$\\mathcal{L}({\\bf{\\hat{y}}},{\\bf{y}}) = -\\frac{1}{N}\\sum_{i=1}^N \\sum_{j=1}^C {\\bf{1}}_{y_i \\in C_j} w_{j}\\log p_{model}[y_i \\in C_j]$$\n",
        "\n",
        "which corresponds to a weighted version of the categorical cross entropy loss function."
      ]
    },
    {
      "cell_type": "code",
      "metadata": {
        "id": "itnW06Fk49EW",
        "colab_type": "code",
        "colab": {}
      },
      "source": [
        "from tensorflow.keras import backend as K\n",
        "def weighted_categorical_crossentropy(weights):\n",
        "    ...\n",
        "\n",
        "        \n",
        "    def loss(y_true, y_pred):\n",
        "        ...\n",
        "        return loss\n",
        "    \n",
        "    return loss"
      ],
      "execution_count": 0,
      "outputs": []
    },
    {
      "cell_type": "markdown",
      "metadata": {
        "id": "x0_jB-9l49EZ",
        "colab_type": "text"
      },
      "source": [
        "1.2.2 Use the weighted categorical cross entropy function to train the MLP model with 3 layers defined at the begining of this document. Use the following weights = np.array([1,1,1,1,1,1,4,1,1,1]). Evaluate the model with the test dataset and plot the confusion matrix. "
      ]
    },
    {
      "cell_type": "code",
      "metadata": {
        "id": "rhNxGDq849Ea",
        "colab_type": "code",
        "colab": {}
      },
      "source": [
        "weights = np.array([1,1,1,1,1,1,4,1,1,1])"
      ],
      "execution_count": 0,
      "outputs": []
    },
    {
      "cell_type": "code",
      "metadata": {
        "id": "J4KrEn-k49Ed",
        "colab_type": "code",
        "colab": {}
      },
      "source": [
        "del model\n",
        "model = Sequential()\n",
        "model.add(Dense(64, input_dim=input_dim))\n",
        "model.add(Activation('tanh'))\n",
        "model.add(Dense(32))\n",
        "model.add(Activation('tanh'))\n",
        "model.add(Dense(nb_classes, activation='softmax'))"
      ],
      "execution_count": 0,
      "outputs": []
    },
    {
      "cell_type": "markdown",
      "metadata": {
        "id": "ZuQpTrPz49Ef",
        "colab_type": "text"
      },
      "source": [
        "Train and validate the model. Compare the confusion matrix obtained using the weighted loss function with one obtained in the former class."
      ]
    },
    {
      "cell_type": "code",
      "metadata": {
        "id": "3UjTev8e49Eg",
        "colab_type": "code",
        "colab": {}
      },
      "source": [
        "model.fit...\n",
        "\n",
        "cm = confusion...\n",
        "\n",
        "...\n",
        "plt.imshow(cm, interpolation='nearest', cmap=cmap)\n",
        "plt.title('Normalized confusion matrix')\n"
      ],
      "execution_count": 0,
      "outputs": []
    }
  ]
}