{
  "nbformat": 4,
  "nbformat_minor": 0,
  "metadata": {
    "kernelspec": {
      "display_name": "Python 3",
      "language": "python",
      "name": "python3"
    },
    "language_info": {
      "codemirror_mode": {
        "name": "ipython",
        "version": 3
      },
      "file_extension": ".py",
      "mimetype": "text/x-python",
      "name": "python",
      "nbconvert_exporter": "python",
      "pygments_lexer": "ipython3",
      "version": "3.7.5"
    },
    "colab": {
      "name": "[TALLER] Customized loss functions and regularization with Keras.ipynb",
      "provenance": [],
      "include_colab_link": true
    }
  },
  "cells": [
    {
      "cell_type": "markdown",
      "metadata": {
        "id": "view-in-github",
        "colab_type": "text"
      },
      "source": [
        "<a href=\"https://colab.research.google.com/github/yuaquintero/DeepLearning/blob/master/%5BTALLER%5D_Customized_loss_functions_and_regularization_with_Keras.ipynb\" target=\"_parent\"><img src=\"https://colab.research.google.com/assets/colab-badge.svg\" alt=\"Open In Colab\"/></a>"
      ]
    },
    {
      "cell_type": "markdown",
      "metadata": {
        "id": "d4p-KPq249CG",
        "colab_type": "text"
      },
      "source": [
        "## Loading the Fashion MNIST database..."
      ]
    },
    {
      "cell_type": "code",
      "metadata": {
        "id": "Jm-MjZqh49CM",
        "colab_type": "code",
        "colab": {}
      },
      "source": [
        "import os\n",
        "import gzip\n",
        "import numpy as np\n",
        "import matplotlib.pyplot as plt\n",
        "import warnings; warnings.simplefilter('ignore')"
      ],
      "execution_count": 0,
      "outputs": []
    },
    {
      "cell_type": "code",
      "metadata": {
        "id": "zAKkhqYX49Cb",
        "colab_type": "code",
        "outputId": "81cbee19-1c74-4be6-ed77-7a0157853938",
        "colab": {
          "base_uri": "https://localhost:8080/",
          "height": 205
        }
      },
      "source": [
        "from tensorflow.keras import datasets\n",
        "(x_train, y_train), (x_test, y_test) = datasets.fashion_mnist.load_data()\n",
        "X_train = x_train.reshape(x_train.shape[0],x_train.shape[1]*x_train.shape[2])\n",
        "X_test = x_test.reshape(x_test.shape[0],x_test.shape[1]*x_test.shape[2])"
      ],
      "execution_count": 2,
      "outputs": [
        {
          "output_type": "display_data",
          "data": {
            "text/html": [
              "<p style=\"color: red;\">\n",
              "The default version of TensorFlow in Colab will soon switch to TensorFlow 2.x.<br>\n",
              "We recommend you <a href=\"https://www.tensorflow.org/guide/migrate\" target=\"_blank\">upgrade</a> now \n",
              "or ensure your notebook will continue to use TensorFlow 1.x via the <code>%tensorflow_version 1.x</code> magic:\n",
              "<a href=\"https://colab.research.google.com/notebooks/tensorflow_version.ipynb\" target=\"_blank\">more info</a>.</p>\n"
            ],
            "text/plain": [
              "<IPython.core.display.HTML object>"
            ]
          },
          "metadata": {
            "tags": []
          }
        },
        {
          "output_type": "stream",
          "text": [
            "Downloading data from https://storage.googleapis.com/tensorflow/tf-keras-datasets/train-labels-idx1-ubyte.gz\n",
            "32768/29515 [=================================] - 0s 0us/step\n",
            "Downloading data from https://storage.googleapis.com/tensorflow/tf-keras-datasets/train-images-idx3-ubyte.gz\n",
            "26427392/26421880 [==============================] - 0s 0us/step\n",
            "Downloading data from https://storage.googleapis.com/tensorflow/tf-keras-datasets/t10k-labels-idx1-ubyte.gz\n",
            "8192/5148 [===============================================] - 0s 0us/step\n",
            "Downloading data from https://storage.googleapis.com/tensorflow/tf-keras-datasets/t10k-images-idx3-ubyte.gz\n",
            "4423680/4422102 [==============================] - 0s 0us/step\n"
          ],
          "name": "stdout"
        }
      ]
    },
    {
      "cell_type": "code",
      "metadata": {
        "id": "tZl9XPkx8PWo",
        "colab_type": "code",
        "colab": {}
      },
      "source": [
        "pip install tensorflow==1.13rc0"
      ],
      "execution_count": 0,
      "outputs": []
    },
    {
      "cell_type": "code",
      "metadata": {
        "id": "QO9ZHuic49Cx",
        "colab_type": "code",
        "colab": {
          "base_uri": "https://localhost:8080/",
          "height": 178
        },
        "outputId": "f6ab006c-6254-4ee8-a90f-c37c044b0a1e"
      },
      "source": [
        "!pip install keras"
      ],
      "execution_count": 4,
      "outputs": [
        {
          "output_type": "stream",
          "text": [
            "Requirement already satisfied: keras in /usr/local/lib/python3.6/dist-packages (2.2.5)\n",
            "Requirement already satisfied: pyyaml in /usr/local/lib/python3.6/dist-packages (from keras) (3.13)\n",
            "Requirement already satisfied: scipy>=0.14 in /usr/local/lib/python3.6/dist-packages (from keras) (1.4.1)\n",
            "Requirement already satisfied: six>=1.9.0 in /usr/local/lib/python3.6/dist-packages (from keras) (1.12.0)\n",
            "Requirement already satisfied: numpy>=1.9.1 in /usr/local/lib/python3.6/dist-packages (from keras) (1.17.5)\n",
            "Requirement already satisfied: h5py in /usr/local/lib/python3.6/dist-packages (from keras) (2.8.0)\n",
            "Requirement already satisfied: keras-preprocessing>=1.1.0 in /usr/local/lib/python3.6/dist-packages (from keras) (1.1.0)\n",
            "Requirement already satisfied: keras-applications>=1.0.8 in /usr/local/lib/python3.6/dist-packages (from keras) (1.0.8)\n"
          ],
          "name": "stdout"
        }
      ]
    },
    {
      "cell_type": "code",
      "metadata": {
        "id": "jutQgdU_49DA",
        "colab_type": "code",
        "outputId": "183d7b50-d557-41cc-cd00-f0310aea9afe",
        "colab": {
          "base_uri": "https://localhost:8080/",
          "height": 35
        }
      },
      "source": [
        "import tensorflow as tf\n",
        "from keras.utils import np_utils\n",
        "from sklearn.preprocessing import StandardScaler\n",
        "\n",
        "input_dim = X_train.shape[1]\n",
        "\n",
        "scaler = StandardScaler()\n",
        "X_trainN = scaler.fit_transform(X_train)\n",
        "X_testN = scaler.transform(X_test)\n",
        "\n",
        "# convert list of labels to binary class matrix\n",
        "y_trainOHE = np_utils.to_categorical(y_train)\n",
        "nb_classes = y_trainOHE.shape[1]"
      ],
      "execution_count": 5,
      "outputs": [
        {
          "output_type": "stream",
          "text": [
            "Using TensorFlow backend.\n"
          ],
          "name": "stderr"
        }
      ]
    },
    {
      "cell_type": "markdown",
      "metadata": {
        "id": "mSNIjLJJ49DF",
        "colab_type": "text"
      },
      "source": [
        "## Exercises\n",
        "\n",
        "### 1.1 Regularization\n",
        "\n",
        "1.1.1 Define a new model using the keras sequential API. The model must have four hidden layers with the following neurons [128,64,32,16]. For all the hidden layers use the 'relu' activation function."
      ]
    },
    {
      "cell_type": "code",
      "metadata": {
        "id": "o0xx7mzO49DG",
        "colab_type": "code",
        "colab": {
          "base_uri": "https://localhost:8080/",
          "height": 90
        },
        "outputId": "14040bbb-dd65-4994-b5fc-7f89abd1fcb0"
      },
      "source": [
        "from numpy.random import seed\n",
        "from tensorflow.keras import regularizers\n",
        "seed(1)\n",
        "#tf.random.set_seed(2)\n",
        "from tensorflow.keras.models import Sequential\n",
        "from tensorflow.keras.layers import Dense, Activation\n",
        "\n",
        "model = Sequential()\n",
        "model.add(Dense(128, input_dim=input_dim))\n",
        "model.add(Activation('relu'))\n",
        "model.add(Dense(64))\n",
        "model.add(Activation('relu'))\n",
        "model.add(Dense(32))\n",
        "model.add(Activation('relu'))\n",
        "model.add(Dense(16))\n",
        "model.add(Activation('relu'))\n",
        "model.add(Dense(nb_classes, activation='softmax'))\n"
      ],
      "execution_count": 6,
      "outputs": [
        {
          "output_type": "stream",
          "text": [
            "WARNING:tensorflow:From /usr/local/lib/python3.6/dist-packages/tensorflow_core/python/ops/resource_variable_ops.py:1630: calling BaseResourceVariable.__init__ (from tensorflow.python.ops.resource_variable_ops) with constraint is deprecated and will be removed in a future version.\n",
            "Instructions for updating:\n",
            "If using Keras pass *_constraint arguments to layers.\n"
          ],
          "name": "stdout"
        }
      ]
    },
    {
      "cell_type": "markdown",
      "metadata": {
        "id": "KF-LhY1h49DU",
        "colab_type": "text"
      },
      "source": [
        "Run the following cell to train and test the model."
      ]
    },
    {
      "cell_type": "code",
      "metadata": {
        "id": "jzjJrYh949DY",
        "colab_type": "code",
        "outputId": "15e1b689-5a53-4526-c3de-ca275dac4b38",
        "colab": {
          "base_uri": "https://localhost:8080/",
          "height": 35
        }
      },
      "source": [
        "from tensorflow.keras import optimizers\n",
        "\n",
        "# or instantiate an optimizer before passing it to model.compile\n",
        "sgd = optimizers.SGD(lr=0.01, decay=1e-6, momentum=0.9, nesterov=True)\n",
        "model.compile(loss='categorical_crossentropy', optimizer=sgd,metrics=['acc'])\n",
        "history= model.fit(X_trainN[:500,:], y_trainOHE[:500,:], epochs=1000, batch_size=16, validation_split=0, verbose=0)\n",
        "\n",
        "preds = model.predict(X_testN, verbose=0)\n",
        "preds = np.argmax(preds,axis=1)\n",
        "Accuracy = np.mean(preds == y_test)\n",
        "print('Accuracy = ', Accuracy*100, '%')"
      ],
      "execution_count": 7,
      "outputs": [
        {
          "output_type": "stream",
          "text": [
            "Accuracy =  78.64 %\n"
          ],
          "name": "stdout"
        }
      ]
    },
    {
      "cell_type": "markdown",
      "metadata": {
        "id": "rcNsBAhd49Dg",
        "colab_type": "text"
      },
      "source": [
        "Create a graph with the histogram of the network weigths in the first hidden layer"
      ]
    },
    {
      "cell_type": "code",
      "metadata": {
        "id": "BSiHfBfyAb6O",
        "colab_type": "code",
        "outputId": "96800491-b7da-468a-ce79-45a13e27cf9c",
        "colab": {
          "base_uri": "https://localhost:8080/",
          "height": 35
        }
      },
      "source": [
        "weight_0=model.layers[0].get_weights()[0]\n",
        "len(weight_0)\n",
        "w_min = np.min(weight_0)\n",
        "w_max = np.max(weight_0)\n",
        "print(weight_0.shape)\n"
      ],
      "execution_count": 67,
      "outputs": [
        {
          "output_type": "stream",
          "text": [
            "(784, 128)\n"
          ],
          "name": "stdout"
        }
      ]
    },
    {
      "cell_type": "code",
      "metadata": {
        "id": "LcETu4YDZ9zG",
        "colab_type": "code",
        "colab": {
          "base_uri": "https://localhost:8080/",
          "height": 35
        },
        "outputId": "4909f219-6c59-4f3d-c3cb-352728a85dcd"
      },
      "source": [
        "print(w_max)"
      ],
      "execution_count": 63,
      "outputs": [
        {
          "output_type": "stream",
          "text": [
            "0.19503234\n"
          ],
          "name": "stdout"
        }
      ]
    },
    {
      "cell_type": "code",
      "metadata": {
        "id": "fulZWm-GaDIk",
        "colab_type": "code",
        "colab": {
          "base_uri": "https://localhost:8080/",
          "height": 35
        },
        "outputId": "cf82037a-e33c-42f3-a705-5b2bbf4fdd19"
      },
      "source": [
        "print(w_min)"
      ],
      "execution_count": 64,
      "outputs": [
        {
          "output_type": "stream",
          "text": [
            "-0.18557715\n"
          ],
          "name": "stdout"
        }
      ]
    },
    {
      "cell_type": "code",
      "metadata": {
        "id": "MsIqu2m0plKG",
        "colab_type": "code",
        "colab": {
          "base_uri": "https://localhost:8080/",
          "height": 265
        },
        "outputId": "b03bfa40-fbb0-4beb-d057-3ec39b483803"
      },
      "source": [
        "plt.hist(weight_0);"
      ],
      "execution_count": 66,
      "outputs": [
        {
          "output_type": "display_data",
          "data": {
            "image/png": "[encoded data removed]",
            "text/plain": [
              "<Figure size 432x288 with 1 Axes>"
            ]
          },
          "metadata": {
            "tags": []
          }
        }
      ]
    },
    {
      "cell_type": "code",
      "metadata": {
        "id": "n8P_ktpV49Di",
        "colab_type": "code",
        "colab": {}
      },
      "source": [
        "plt....."
      ],
      "execution_count": 0,
      "outputs": []
    },
    {
      "cell_type": "markdown",
      "metadata": {
        "id": "iK45p-PV49Dn",
        "colab_type": "text"
      },
      "source": [
        "1.1.2 Modify the former model to include $L_2$ regularization to every layer of the former model. Define a regularization parameter equal to 0.0001. "
      ]
    },
    {
      "cell_type": "code",
      "metadata": {
        "id": "xCYaIU00rN0P",
        "colab_type": "code",
        "colab": {}
      },
      "source": [
        "from keras import regularizers\n",
        "model.add(Dense(64, input_dim=64,\n",
        "                kernel_regularizer=regularizers.l2(0.01),\n",
        "                activity_regularizer=regularizers.l1(0.01)))"
      ],
      "execution_count": 0,
      "outputs": []
    },
    {
      "cell_type": "code",
      "metadata": {
        "id": "mwKZGUH049Do",
        "colab_type": "code",
        "colab": {
          "base_uri": "https://localhost:8080/",
          "height": 381
        },
        "outputId": "f1f173a2-9d27-4dd2-a5f1-c46eb20d93b8"
      },
      "source": [
        "seed(1)\n",
        "#tf.random.set_seed(2)\n",
        "\n",
        "from keras import regularizers\n",
        "\n",
        "\n",
        "del model\n",
        "\n",
        "model = Sequential()\n",
        "model.add(Dense(128, input_dim=input_dim))\n",
        "model.add(Activation('relu'),kernel_regularizer=regularizers.l2(l=0.0001))\n",
        "model.add(Dense(64,Activation('relu'),kernel_regularizer=regularizers.l2(l=0.0001)))\n",
        "model.add(Dense(32,Activation('relu'),kernel_regularizer=regularizers.l2(l=0.0001)))\n",
        "model.add(Dense(16,Activation('relu'),kernel_regularizer=regularizers.l2(l=0.0001)))\n",
        "model.add(Dense(nb_classes, activation='softmax'),kernel_regularizer=regularizers.l2(l=0.0001))\n"
      ],
      "execution_count": 77,
      "outputs": [
        {
          "output_type": "error",
          "ename": "TypeError",
          "evalue": "ignored",
          "traceback": [
            "\u001b[0;31m---------------------------------------------------------------------------\u001b[0m",
            "\u001b[0;31mTypeError\u001b[0m                                 Traceback (most recent call last)",
            "\u001b[0;32m<ipython-input-77-0c3c76fcc19d>\u001b[0m in \u001b[0;36m<module>\u001b[0;34m()\u001b[0m\n\u001b[1;32m      9\u001b[0m \u001b[0mmodel\u001b[0m \u001b[0;34m=\u001b[0m \u001b[0mSequential\u001b[0m\u001b[0;34m(\u001b[0m\u001b[0;34m)\u001b[0m\u001b[0;34m\u001b[0m\u001b[0;34m\u001b[0m\u001b[0m\n\u001b[1;32m     10\u001b[0m \u001b[0mmodel\u001b[0m\u001b[0;34m.\u001b[0m\u001b[0madd\u001b[0m\u001b[0;34m(\u001b[0m\u001b[0mDense\u001b[0m\u001b[0;34m(\u001b[0m\u001b[0;36m128\u001b[0m\u001b[0;34m,\u001b[0m \u001b[0minput_dim\u001b[0m\u001b[0;34m=\u001b[0m\u001b[0minput_dim\u001b[0m\u001b[0;34m)\u001b[0m\u001b[0;34m)\u001b[0m\u001b[0;34m\u001b[0m\u001b[0;34m\u001b[0m\u001b[0m\n\u001b[0;32m---> 11\u001b[0;31m \u001b[0mmodel\u001b[0m\u001b[0;34m.\u001b[0m\u001b[0madd\u001b[0m\u001b[0;34m(\u001b[0m\u001b[0mActivation\u001b[0m\u001b[0;34m(\u001b[0m\u001b[0;34m'relu'\u001b[0m\u001b[0;34m)\u001b[0m\u001b[0;34m,\u001b[0m\u001b[0mkernel_regularizer\u001b[0m\u001b[0;34m=\u001b[0m\u001b[0mregularizers\u001b[0m\u001b[0;34m.\u001b[0m\u001b[0ml2\u001b[0m\u001b[0;34m(\u001b[0m\u001b[0ml\u001b[0m\u001b[0;34m=\u001b[0m\u001b[0;36m0.0001\u001b[0m\u001b[0;34m)\u001b[0m\u001b[0;34m)\u001b[0m\u001b[0;34m\u001b[0m\u001b[0;34m\u001b[0m\u001b[0m\n\u001b[0m\u001b[1;32m     12\u001b[0m \u001b[0mmodel\u001b[0m\u001b[0;34m.\u001b[0m\u001b[0madd\u001b[0m\u001b[0;34m(\u001b[0m\u001b[0mDense\u001b[0m\u001b[0;34m(\u001b[0m\u001b[0;36m64\u001b[0m\u001b[0;34m,\u001b[0m\u001b[0mActivation\u001b[0m\u001b[0;34m(\u001b[0m\u001b[0;34m'relu'\u001b[0m\u001b[0;34m)\u001b[0m\u001b[0;34m,\u001b[0m\u001b[0mkernel_regularizer\u001b[0m\u001b[0;34m=\u001b[0m\u001b[0mregularizers\u001b[0m\u001b[0;34m.\u001b[0m\u001b[0ml2\u001b[0m\u001b[0;34m(\u001b[0m\u001b[0ml\u001b[0m\u001b[0;34m=\u001b[0m\u001b[0;36m0.0001\u001b[0m\u001b[0;34m)\u001b[0m\u001b[0;34m)\u001b[0m\u001b[0;34m)\u001b[0m\u001b[0;34m\u001b[0m\u001b[0;34m\u001b[0m\u001b[0m\n\u001b[1;32m     13\u001b[0m \u001b[0mmodel\u001b[0m\u001b[0;34m.\u001b[0m\u001b[0madd\u001b[0m\u001b[0;34m(\u001b[0m\u001b[0mDense\u001b[0m\u001b[0;34m(\u001b[0m\u001b[0;36m32\u001b[0m\u001b[0;34m,\u001b[0m\u001b[0mActivation\u001b[0m\u001b[0;34m(\u001b[0m\u001b[0;34m'relu'\u001b[0m\u001b[0;34m)\u001b[0m\u001b[0;34m,\u001b[0m\u001b[0mkernel_regularizer\u001b[0m\u001b[0;34m=\u001b[0m\u001b[0mregularizers\u001b[0m\u001b[0;34m.\u001b[0m\u001b[0ml2\u001b[0m\u001b[0;34m(\u001b[0m\u001b[0ml\u001b[0m\u001b[0;34m=\u001b[0m\u001b[0;36m0.0001\u001b[0m\u001b[0;34m)\u001b[0m\u001b[0;34m)\u001b[0m\u001b[0;34m)\u001b[0m\u001b[0;34m\u001b[0m\u001b[0;34m\u001b[0m\u001b[0m\n",
            "\u001b[0;32m/usr/local/lib/python3.6/dist-packages/tensorflow_core/python/training/tracking/base.py\u001b[0m in \u001b[0;36m_method_wrapper\u001b[0;34m(self, *args, **kwargs)\u001b[0m\n\u001b[1;32m    455\u001b[0m     \u001b[0mself\u001b[0m\u001b[0;34m.\u001b[0m\u001b[0m_self_setattr_tracking\u001b[0m \u001b[0;34m=\u001b[0m \u001b[0;32mFalse\u001b[0m  \u001b[0;31m# pylint: disable=protected-access\u001b[0m\u001b[0;34m\u001b[0m\u001b[0;34m\u001b[0m\u001b[0m\n\u001b[1;32m    456\u001b[0m     \u001b[0;32mtry\u001b[0m\u001b[0;34m:\u001b[0m\u001b[0;34m\u001b[0m\u001b[0;34m\u001b[0m\u001b[0m\n\u001b[0;32m--> 457\u001b[0;31m       \u001b[0mresult\u001b[0m \u001b[0;34m=\u001b[0m \u001b[0mmethod\u001b[0m\u001b[0;34m(\u001b[0m\u001b[0mself\u001b[0m\u001b[0;34m,\u001b[0m \u001b[0;34m*\u001b[0m\u001b[0margs\u001b[0m\u001b[0;34m,\u001b[0m \u001b[0;34m**\u001b[0m\u001b[0mkwargs\u001b[0m\u001b[0;34m)\u001b[0m\u001b[0;34m\u001b[0m\u001b[0;34m\u001b[0m\u001b[0m\n\u001b[0m\u001b[1;32m    458\u001b[0m     \u001b[0;32mfinally\u001b[0m\u001b[0;34m:\u001b[0m\u001b[0;34m\u001b[0m\u001b[0;34m\u001b[0m\u001b[0m\n\u001b[1;32m    459\u001b[0m       \u001b[0mself\u001b[0m\u001b[0;34m.\u001b[0m\u001b[0m_self_setattr_tracking\u001b[0m \u001b[0;34m=\u001b[0m \u001b[0mprevious_value\u001b[0m  \u001b[0;31m# pylint: disable=protected-access\u001b[0m\u001b[0;34m\u001b[0m\u001b[0;34m\u001b[0m\u001b[0m\n",
            "\u001b[0;31mTypeError\u001b[0m: add() got an unexpected keyword argument 'kernel_regularizer'"
          ]
        }
      ]
    },
    {
      "cell_type": "markdown",
      "metadata": {
        "id": "inPCizJ949Dr",
        "colab_type": "text"
      },
      "source": [
        "Run the following cell to train and test the model"
      ]
    },
    {
      "cell_type": "code",
      "metadata": {
        "id": "Dd2iAYX049Dt",
        "colab_type": "code",
        "colab": {}
      },
      "source": [
        "# or instantiate an optimizer before passing it to model.compile\n",
        "sgd = optimizers.SGD(lr=0.01, decay=1e-6, momentum=0.9, nesterov=True)\n",
        "model.compile(loss='categorical_crossentropy', optimizer=sgd)\n",
        "model.fit(X_trainN[:500,:], y_trainOHE[:500,:], epochs=1000, batch_size=16, validation_split=0, verbose=0)\n",
        "\n",
        "preds = model.predict(X_testN, verbose=0)\n",
        "preds = np.argmax(preds,axis=1)\n",
        "Accuracy = np.mean(preds == y_test)\n",
        "print('Accuracy = ', Accuracy*100, '%')"
      ],
      "execution_count": 0,
      "outputs": []
    },
    {
      "cell_type": "markdown",
      "metadata": {
        "id": "xK1wraXK49D1",
        "colab_type": "text"
      },
      "source": [
        "Create a graph with the histogram of the network weigths in the first hidden layer. Compare it with the histogram obtained in the previous exercise. Is there any effect due to the regularization?"
      ]
    },
    {
      "cell_type": "code",
      "metadata": {
        "id": "enEBkm1d49D5",
        "colab_type": "code",
        "colab": {}
      },
      "source": [
        "plt....."
      ],
      "execution_count": 0,
      "outputs": []
    },
    {
      "cell_type": "markdown",
      "metadata": {
        "id": "UiWU3anE49D-",
        "colab_type": "text"
      },
      "source": [
        "1.1.3 Define a new model using the keras sequential API including $L_1$ and $L_2$ regularization methods for every layer. Define a regularization parameter equal to 0.0001 for both regularization terms."
      ]
    },
    {
      "cell_type": "code",
      "metadata": {
        "id": "bf-koe8q49D_",
        "colab_type": "code",
        "colab": {}
      },
      "source": [
        "seed(1)\n",
        "tf.random.set_seed(2)\n",
        "\n",
        "del model\n",
        "...."
      ],
      "execution_count": 0,
      "outputs": []
    },
    {
      "cell_type": "markdown",
      "metadata": {
        "id": "ACyFSck649ED",
        "colab_type": "text"
      },
      "source": [
        "Run the following cell to train the model and estimate the accuracy."
      ]
    },
    {
      "cell_type": "code",
      "metadata": {
        "id": "KOC0F3Eq49EF",
        "colab_type": "code",
        "colab": {}
      },
      "source": [
        "# or instantiate an optimizer before passing it to model.compile\n",
        "sgd = optimizers.SGD(lr=0.01, decay=1e-6, momentum=0.9, nesterov=True)\n",
        "model.compile(loss='categorical_crossentropy', optimizer=sgd)\n",
        "model.fit(X_trainN[:500,:], y_trainOHE[:500,:], epochs=1000, batch_size=16, validation_split=0, verbose=0)\n",
        "\n",
        "preds = model.predict(X_testN, verbose=0)\n",
        "preds = np.argmax(preds,axis=1)\n",
        "Accuracy = np.mean(preds == y_test)\n",
        "print('Accuracy = ', Accuracy*100, '%')"
      ],
      "execution_count": 0,
      "outputs": []
    },
    {
      "cell_type": "markdown",
      "metadata": {
        "id": "osfPNP3G49EI",
        "colab_type": "text"
      },
      "source": [
        "Create a graph with the histogram of the network weigths in the first hidden layer. Compare it with the histograms obtained in the previous exercises. What is the effect of applying $L_1$ regularization?"
      ]
    },
    {
      "cell_type": "markdown",
      "metadata": {
        "id": "CgkHu1Fy49EJ",
        "colab_type": "text"
      },
      "source": [
        "### 1.2 Customized loss function"
      ]
    },
    {
      "cell_type": "code",
      "metadata": {
        "id": "_w63m8SS49EK",
        "colab_type": "code",
        "colab": {}
      },
      "source": [
        "#Example MSE\n",
        "from tensorflow.keras import backend as K\n",
        "\n",
        "def mean_squared_error(y_true, y_pred):\n",
        "    return K.mean(K.square(y_pred - y_true), axis=-1)"
      ],
      "execution_count": 0,
      "outputs": []
    },
    {
      "cell_type": "markdown",
      "metadata": {
        "id": "lFNzSJss49ER",
        "colab_type": "text"
      },
      "source": [
        "1.2.1 Use the backend component of keras (https://keras.io/backend/) to define the following loss function and use it to train the model.\n",
        "\n",
        "$$\\mathcal{L}({\\bf{\\hat{y}}},{\\bf{y}}) = -\\frac{1}{N}\\sum_{i=1}^N \\sum_{j=1}^C {\\bf{1}}_{y_i \\in C_j} w_{j}\\log p_{model}[y_i \\in C_j]$$\n",
        "\n",
        "which corresponds to a weighted version of the categorical cross entropy loss function."
      ]
    },
    {
      "cell_type": "code",
      "metadata": {
        "id": "itnW06Fk49EW",
        "colab_type": "code",
        "colab": {}
      },
      "source": [
        "from tensorflow.keras import backend as K\n",
        "def weighted_categorical_crossentropy(weights):\n",
        "    ...\n",
        "\n",
        "        \n",
        "    def loss(y_true, y_pred):\n",
        "        ...\n",
        "        return loss\n",
        "    \n",
        "    return loss"
      ],
      "execution_count": 0,
      "outputs": []
    },
    {
      "cell_type": "markdown",
      "metadata": {
        "id": "x0_jB-9l49EZ",
        "colab_type": "text"
      },
      "source": [
        "1.2.2 Use the weighted categorical cross entropy function to train the MLP model with 3 layers defined at the begining of this document. Use the following weights = np.array([1,1,1,1,1,1,4,1,1,1]). Evaluate the model with the test dataset and plot the confusion matrix. "
      ]
    },
    {
      "cell_type": "code",
      "metadata": {
        "id": "rhNxGDq849Ea",
        "colab_type": "code",
        "colab": {}
      },
      "source": [
        "weights = np.array([1,1,1,1,1,1,4,1,1,1])"
      ],
      "execution_count": 0,
      "outputs": []
    },
    {
      "cell_type": "code",
      "metadata": {
        "id": "J4KrEn-k49Ed",
        "colab_type": "code",
        "colab": {}
      },
      "source": [
        "del model\n",
        "..."
      ],
      "execution_count": 0,
      "outputs": []
    },
    {
      "cell_type": "markdown",
      "metadata": {
        "id": "ZuQpTrPz49Ef",
        "colab_type": "text"
      },
      "source": [
        "Train and validate the model. Compare the confusion matrix obtained using the weighted loss function with one obtained in the former class."
      ]
    },
    {
      "cell_type": "code",
      "metadata": {
        "id": "3UjTev8e49Eg",
        "colab_type": "code",
        "colab": {}
      },
      "source": [
        "model.fit...\n",
        "\n",
        "cm = confusion...\n",
        "\n",
        "...\n",
        "plt.imshow(cm, interpolation='nearest', cmap=cmap)\n",
        "plt.title('Normalized confusion matrix')\n"
      ],
      "execution_count": 0,
      "outputs": []
    }
  ]
}