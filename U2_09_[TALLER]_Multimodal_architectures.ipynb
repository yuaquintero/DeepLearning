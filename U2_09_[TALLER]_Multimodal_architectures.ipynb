{
  "nbformat": 4,
  "nbformat_minor": 0,
  "metadata": {
    "kernelspec": {
      "display_name": "Python 3",
      "language": "python",
      "name": "python3"
    },
    "language_info": {
      "codemirror_mode": {
        "name": "ipython",
        "version": 3
      },
      "file_extension": ".py",
      "mimetype": "text/x-python",
      "name": "python",
      "nbconvert_exporter": "python",
      "pygments_lexer": "ipython3",
      "version": "3.7.3"
    },
    "colab": {
      "name": "Copy of U2.09 - [TALLER] - Multimodal architectures.ipynb",
      "provenance": [],
      "collapsed_sections": [],
      "include_colab_link": true
    }
  },
  "cells": [
    {
      "cell_type": "markdown",
      "metadata": {
        "id": "view-in-github",
        "colab_type": "text"
      },
      "source": [
        "<a href=\"https://colab.research.google.com/github/yuaquintero/DeepLearning/blob/master/U2_09_%5BTALLER%5D_Multimodal_architectures.ipynb\" target=\"_parent\"><img src=\"https://colab.research.google.com/assets/colab-badge.svg\" alt=\"Open In Colab\"/></a>"
      ]
    },
    {
      "cell_type": "code",
      "metadata": {
        "id": "UaKpLDClmyzY",
        "colab_type": "code",
        "outputId": "133e2467-8948-4709-b2f5-5dc2a7668d72",
        "colab": {
          "base_uri": "https://localhost:8080/",
          "height": 35
        }
      },
      "source": [
        "!wget --no-cache -O init.py -q https://raw.githubusercontent.com/rramosp/2020.deeplearning/master/init.py\n",
        "from init import init; init(force_download=False)"
      ],
      "execution_count": 0,
      "outputs": [
        {
          "output_type": "stream",
          "text": [
            "replicating local resources\n"
          ],
          "name": "stdout"
        }
      ]
    },
    {
      "cell_type": "code",
      "metadata": {
        "id": "qH-0xJH8myzp",
        "colab_type": "code",
        "outputId": "c85d4506-9cdd-4814-d7b6-4c7d3dede2cd",
        "colab": {
          "base_uri": "https://localhost:8080/",
          "height": 70
        }
      },
      "source": [
        "import sys\n",
        "if 'google.colab' in sys.modules:\n",
        "    print (\"setting tensorflow version in colab\")\n",
        "    %tensorflow_version 2.x\n",
        "import tensorflow as tf\n",
        "tf.__version__"
      ],
      "execution_count": 0,
      "outputs": [
        {
          "output_type": "stream",
          "text": [
            "setting tensorflow version in colab\n",
            "TensorFlow 2.x selected.\n"
          ],
          "name": "stdout"
        },
        {
          "output_type": "execute_result",
          "data": {
            "text/plain": [
              "'2.1.0'"
            ]
          },
          "metadata": {
            "tags": []
          },
          "execution_count": 2
        }
      ]
    },
    {
      "cell_type": "code",
      "metadata": {
        "id": "4nOV5pn1myz7",
        "colab_type": "code",
        "colab": {}
      },
      "source": [
        "import numpy as np\n",
        "import matplotlib.pyplot as plt\n",
        "import pandas as pd\n",
        "import itertools\n",
        "from IPython.display import Image\n",
        "\n",
        "%matplotlib inline"
      ],
      "execution_count": 0,
      "outputs": []
    },
    {
      "cell_type": "code",
      "metadata": {
        "id": "MAkQaPcSmy0L",
        "colab_type": "code",
        "outputId": "5155f482-3a21-47a0-a0f8-6c1af35b1519",
        "colab": {
          "base_uri": "https://localhost:8080/",
          "height": 35
        }
      },
      "source": [
        "mnist = pd.read_csv(\"local/data/mnist1.5k.csv.gz\", compression=\"gzip\", header=None).values\n",
        "X=mnist[:,1:785]/255.\n",
        "y=mnist[:,0]\n",
        "print(\"dimension de las imagenes y las clases\", X.shape, y.shape)"
      ],
      "execution_count": 0,
      "outputs": [
        {
          "output_type": "stream",
          "text": [
            "dimension de las imagenes y las clases (1500, 784) (1500,)\n"
          ],
          "name": "stdout"
        }
      ]
    },
    {
      "cell_type": "code",
      "metadata": {
        "id": "-sZ0NqyNmy0U",
        "colab_type": "code",
        "outputId": "4ff49190-e935-4d69-882d-774cf39fcb84",
        "colab": {
          "base_uri": "https://localhost:8080/",
          "height": 35
        }
      },
      "source": [
        "X_train, X_test, y_train, y_test = X[:300], X[300:], y[:300], y[300:]\n",
        "y_train_oh = np.eye(10)[y_train]\n",
        "y_test_oh  = np.eye(10)[y_test]\n",
        "print(X_train.shape, y_train_oh.shape,  X_test.shape, y_test_oh.shape)"
      ],
      "execution_count": 0,
      "outputs": [
        {
          "output_type": "stream",
          "text": [
            "(300, 784) (300, 10) (1200, 784) (1200, 10)\n"
          ],
          "name": "stdout"
        }
      ]
    },
    {
      "cell_type": "code",
      "metadata": {
        "id": "hHwykrYKp6ST",
        "colab_type": "code",
        "colab": {}
      },
      "source": [
        "print(y_test_oh)"
      ],
      "execution_count": 0,
      "outputs": []
    },
    {
      "cell_type": "code",
      "metadata": {
        "id": "6h2qf2c3p6LW",
        "colab_type": "code",
        "colab": {}
      },
      "source": [
        ""
      ],
      "execution_count": 0,
      "outputs": []
    },
    {
      "cell_type": "markdown",
      "metadata": {
        "id": "RetcOKhkmy0Z",
        "colab_type": "text"
      },
      "source": [
        "## Network architectures lab\n",
        "\n",
        "\n",
        "from the notes we have two architectures:\n",
        "    \n",
        "- **A**: Three layer network accepting a 784 element vector as input and outputing a 10-class vector\n",
        "- **B**: Same as **A** but accepts an additional 2 element vector with _evenness_ information that is injected at the third layer.\n",
        "\n",
        "This lab requires you to do two things:\n",
        "\n",
        "**1**. Create a **C** architecture similar to **B** but where the 2 element vector is injected at the second layer. This will make the network have 41,650 parameters, distributed in the following way:\n",
        "   \n",
        "   \n",
        "\n",
        "        INPUT 1 to LAYER 1:              784*50 + 50 (bias) = 39250\n",
        "        LAYER 1 to LAYER 2:               50*30 + 30 (bias) = 1530\n",
        "        LAYER 2 + INPUT 2 to LAYER 3: (30+2)*20 + 20 (bias) = 660\n",
        "        LAYER 3 to OUTPUT:                20*10 + 10 (bias) = 210\n",
        "    \n",
        "                                                       TOTAL 41650\n",
        "                                                       \n",
        "**2**. Run an experimental setup where you train different network configurations and measure the accuracy on test data. Fix the number of neurons to 50, 30 and 20 for each layer and the following combination of parameters:\n",
        "\n",
        "- For architecture **A** (3 configurations)\n",
        "\n",
        "    `s3_activation` $\\in$ `[\"linear\", \"relu\", \"tanh\"]`\n",
        "\n",
        "- For architectures **B** and **C** (15 configurations for each architecture)\n",
        "\n",
        "    `s3_activation` $\\in$ `[\"linear\", \"relu\", \"tanh\"]`\n",
        "    \n",
        "    `k1,k2` $\\in$ `[(0,1), (-.5,2),(-.5,30), (0,15),(0,30)]`\n",
        "\n",
        "And create a heat map showing the accuracy in test obtained for each configuration, such as the following (your results should be approximate to this):"
      ]
    },
    {
      "cell_type": "code",
      "metadata": {
        "id": "4SEi5WQEmy0e",
        "colab_type": "code",
        "outputId": "fc36e5d6-ae89-4dbb-a71f-d12c3d37264d",
        "colab": {}
      },
      "source": [
        "Image(filename='local/imgs/mm_results_1.png')"
      ],
      "execution_count": 0,
      "outputs": [
        {
          "output_type": "execute_result",
          "data": {
            "image/png": "[encoded data removed]",
            "text/plain": [
              "<IPython.core.display.Image object>"
            ]
          },
          "metadata": {
            "tags": []
          },
          "execution_count": 2
        }
      ]
    },
    {
      "cell_type": "markdown",
      "metadata": {
        "id": "-NyPNhOFmy0j",
        "colab_type": "text"
      },
      "source": [
        "And two bar plots with the average per architecture and k1,k2 configuration, such as the following (again, your results should be approximetely similar):"
      ]
    },
    {
      "cell_type": "code",
      "metadata": {
        "scrolled": true,
        "id": "R9MxpLR4my0l",
        "colab_type": "code",
        "outputId": "5e74ee38-11e4-4219-b2af-82108b9ca30a",
        "colab": {}
      },
      "source": [
        "Image(filename='local/imgs/mm_results_2.png')"
      ],
      "execution_count": 0,
      "outputs": [
        {
          "output_type": "execute_result",
          "data": {
            "image/png": "[encoded data removed]",
            "text/plain": [
              "<IPython.core.display.Image object>"
            ]
          },
          "metadata": {
            "tags": []
          },
          "execution_count": 3
        }
      ]
    },
    {
      "cell_type": "code",
      "metadata": {
        "id": "zjnFlBY0my0s",
        "colab_type": "code",
        "colab": {}
      },
      "source": [
        ""
      ],
      "execution_count": 0,
      "outputs": []
    },
    {
      "cell_type": "markdown",
      "metadata": {
        "id": "HSRdX8Gjmy0x",
        "colab_type": "text"
      },
      "source": [
        "### Model definitions"
      ]
    },
    {
      "cell_type": "code",
      "metadata": {
        "id": "TWluowxbmy0y",
        "colab_type": "code",
        "colab": {}
      },
      "source": [
        "from tensorflow.keras import Sequential, Model\n",
        "from tensorflow.keras.layers import Dense, Dropout, Flatten, concatenate, Input\n",
        "from tensorflow.keras.backend import clear_session"
      ],
      "execution_count": 0,
      "outputs": []
    },
    {
      "cell_type": "code",
      "metadata": {
        "id": "ohVQPTe_my02",
        "colab_type": "code",
        "colab": {}
      },
      "source": [
        "def get_model_A(input_dim, s1, s2, s3, s3_activation=\"relu\"):\n",
        "    clear_session()\n",
        "    model = Sequential()\n",
        "    model.add(Dense(s1, activation='relu', input_dim=input_dim))\n",
        "    model.add(Dense(s2, activation='relu'))\n",
        "    model.add(Dense(s3, activation=s3_activation))\n",
        "    model.add(Dense(10, activation='softmax'))\n",
        "    model.compile(optimizer='adam', loss='categorical_crossentropy')\n",
        "    model.reset_states()\n",
        "    \n",
        "    return model"
      ],
      "execution_count": 0,
      "outputs": []
    },
    {
      "cell_type": "code",
      "metadata": {
        "id": "FtIVouxtmy1M",
        "colab_type": "code",
        "colab": {}
      },
      "source": [
        "def get_model_B(input_dim, extra_info_dim,  s1, s2, s3, s3_activation=\"relu\"):\n",
        "    clear_session()\n",
        "    inp1 = Input(shape=(input_dim,))\n",
        "    l11 = Dense(s1, activation=\"relu\")(inp1)\n",
        "    l12 = Dense(s2, activation=\"relu\")(l11)\n",
        "    l13 = Dense(s3, activation=s3_activation)(l12)  \n",
        "    inp2 = Input(shape=(extra_info_dim,))\n",
        "    cc1 = concatenate([l13, inp2],axis=1) # Merge row, same column\n",
        "    output = Dense(10, activation='softmax')(cc1)\n",
        "    model = Model(inputs=[inp1, inp2], outputs=output)\n",
        "    model.compile(optimizer='adam', loss='categorical_crossentropy')\n",
        "    model.reset_states()\n",
        "    return model "
      ],
      "execution_count": 0,
      "outputs": []
    },
    {
      "cell_type": "code",
      "metadata": {
        "id": "kzIgGfMYmy1U",
        "colab_type": "code",
        "colab": {}
      },
      "source": [
        "def get_model_C(input_dim, extra_info_dim, s1, s2, s3, s3_activation=\"relu\"):\n",
        "    clear_session()\n",
        "    inp1 = Input(shape=(input_dim,))\n",
        "    l11 = Dense(s1, activation=\"relu\")(inp1)\n",
        "    l12 = Dense(s2, activation=\"relu\")(l11)\n",
        "    inp2 = Input(shape=(extra_info_dim,))\n",
        "    cc1 = concatenate([l12, inp2],axis=1) # Merge row, same column\n",
        "    l13 = Dense(s3, activation=s3_activation)(cc1)\n",
        "    output = Dense(10, activation='softmax')(l13)\n",
        "    model = Model(inputs=[inp1, inp2], outputs=output)\n",
        "    model.compile(optimizer='adam', loss='categorical_crossentropy')\n",
        "    model.reset_states()\n",
        "    return model"
      ],
      "execution_count": 0,
      "outputs": []
    },
    {
      "cell_type": "code",
      "metadata": {
        "id": "pMYjBeQgmy1X",
        "colab_type": "code",
        "colab": {}
      },
      "source": [
        "def get_X_extra(y_train, y_test, k0, k1):\n",
        "    X_train_extra = (np.eye(2)[y_train%2]+k0)*k1\n",
        "    X_test_extra  = (np.eye(2)[y_test%2]+k0)*k1\n",
        "    return X_train_extra, X_test_extra"
      ],
      "execution_count": 0,
      "outputs": []
    },
    {
      "cell_type": "code",
      "metadata": {
        "id": "mOdWnR8zEZFu",
        "colab_type": "code",
        "colab": {}
      },
      "source": [
        "X_train_extra, X_test_extra = get_X_extra(y_train, y_test, k0=-.5, k1=2)\n",
        "X_train_extra[:10]"
      ],
      "execution_count": 0,
      "outputs": []
    },
    {
      "cell_type": "markdown",
      "metadata": {
        "id": "r-lbeud4my1i",
        "colab_type": "text"
      },
      "source": [
        "### Use the following dataframe to record your data "
      ]
    },
    {
      "cell_type": "code",
      "metadata": {
        "id": "15iLj3tLmy1j",
        "colab_type": "code",
        "outputId": "476cb9dd-74f0-4652-be91-23af665545f7",
        "colab": {
          "base_uri": "https://localhost:8080/",
          "height": 334
        }
      },
      "source": [
        "k_set     = [(0,1), (-.5,2),(-.5,30), (0,15),(0,30), None]\n",
        "act_set   = [\"linear\", \"relu\", \"tanh\"]\n",
        "arch_set  = [\"A\", \"B\", \"C\"]\n",
        "\n",
        "\n",
        "r_test = pd.DataFrame(np.zeros((len(arch_set)*len(act_set), len(k_set)))*np.nan, \n",
        "                      index=[[a+\"-\"+b for a,b in itertools.product (arch_set, act_set)]],\n",
        "                      columns=[str(i) for i in k_set])\n",
        "r_test"
      ],
      "execution_count": 0,
      "outputs": [
        {
          "output_type": "execute_result",
          "data": {
            "text/html": [
              "<div>\n",
              "<style scoped>\n",
              "    .dataframe tbody tr th:only-of-type {\n",
              "        vertical-align: middle;\n",
              "    }\n",
              "\n",
              "    .dataframe tbody tr th {\n",
              "        vertical-align: top;\n",
              "    }\n",
              "\n",
              "    .dataframe thead th {\n",
              "        text-align: right;\n",
              "    }\n",
              "</style>\n",
              "<table border=\"1\" class=\"dataframe\">\n",
              "  <thead>\n",
              "    <tr style=\"text-align: right;\">\n",
              "      <th></th>\n",
              "      <th>(0, 1)</th>\n",
              "      <th>(-0.5, 2)</th>\n",
              "      <th>(-0.5, 30)</th>\n",
              "      <th>(0, 15)</th>\n",
              "      <th>(0, 30)</th>\n",
              "      <th>None</th>\n",
              "    </tr>\n",
              "  </thead>\n",
              "  <tbody>\n",
              "    <tr>\n",
              "      <th>A-linear</th>\n",
              "      <td>NaN</td>\n",
              "      <td>NaN</td>\n",
              "      <td>NaN</td>\n",
              "      <td>NaN</td>\n",
              "      <td>NaN</td>\n",
              "      <td>NaN</td>\n",
              "    </tr>\n",
              "    <tr>\n",
              "      <th>A-relu</th>\n",
              "      <td>NaN</td>\n",
              "      <td>NaN</td>\n",
              "      <td>NaN</td>\n",
              "      <td>NaN</td>\n",
              "      <td>NaN</td>\n",
              "      <td>NaN</td>\n",
              "    </tr>\n",
              "    <tr>\n",
              "      <th>A-tanh</th>\n",
              "      <td>NaN</td>\n",
              "      <td>NaN</td>\n",
              "      <td>NaN</td>\n",
              "      <td>NaN</td>\n",
              "      <td>NaN</td>\n",
              "      <td>NaN</td>\n",
              "    </tr>\n",
              "    <tr>\n",
              "      <th>B-linear</th>\n",
              "      <td>NaN</td>\n",
              "      <td>NaN</td>\n",
              "      <td>NaN</td>\n",
              "      <td>NaN</td>\n",
              "      <td>NaN</td>\n",
              "      <td>NaN</td>\n",
              "    </tr>\n",
              "    <tr>\n",
              "      <th>B-relu</th>\n",
              "      <td>NaN</td>\n",
              "      <td>NaN</td>\n",
              "      <td>NaN</td>\n",
              "      <td>NaN</td>\n",
              "      <td>NaN</td>\n",
              "      <td>NaN</td>\n",
              "    </tr>\n",
              "    <tr>\n",
              "      <th>B-tanh</th>\n",
              "      <td>NaN</td>\n",
              "      <td>NaN</td>\n",
              "      <td>NaN</td>\n",
              "      <td>NaN</td>\n",
              "      <td>NaN</td>\n",
              "      <td>NaN</td>\n",
              "    </tr>\n",
              "    <tr>\n",
              "      <th>C-linear</th>\n",
              "      <td>NaN</td>\n",
              "      <td>NaN</td>\n",
              "      <td>NaN</td>\n",
              "      <td>NaN</td>\n",
              "      <td>NaN</td>\n",
              "      <td>NaN</td>\n",
              "    </tr>\n",
              "    <tr>\n",
              "      <th>C-relu</th>\n",
              "      <td>NaN</td>\n",
              "      <td>NaN</td>\n",
              "      <td>NaN</td>\n",
              "      <td>NaN</td>\n",
              "      <td>NaN</td>\n",
              "      <td>NaN</td>\n",
              "    </tr>\n",
              "    <tr>\n",
              "      <th>C-tanh</th>\n",
              "      <td>NaN</td>\n",
              "      <td>NaN</td>\n",
              "      <td>NaN</td>\n",
              "      <td>NaN</td>\n",
              "      <td>NaN</td>\n",
              "      <td>NaN</td>\n",
              "    </tr>\n",
              "  </tbody>\n",
              "</table>\n",
              "</div>"
            ],
            "text/plain": [
              "          (0, 1)  (-0.5, 2)  (-0.5, 30)  (0, 15)  (0, 30)  None\n",
              "A-linear     NaN        NaN         NaN      NaN      NaN   NaN\n",
              "A-relu       NaN        NaN         NaN      NaN      NaN   NaN\n",
              "A-tanh       NaN        NaN         NaN      NaN      NaN   NaN\n",
              "B-linear     NaN        NaN         NaN      NaN      NaN   NaN\n",
              "B-relu       NaN        NaN         NaN      NaN      NaN   NaN\n",
              "B-tanh       NaN        NaN         NaN      NaN      NaN   NaN\n",
              "C-linear     NaN        NaN         NaN      NaN      NaN   NaN\n",
              "C-relu       NaN        NaN         NaN      NaN      NaN   NaN\n",
              "C-tanh       NaN        NaN         NaN      NaN      NaN   NaN"
            ]
          },
          "metadata": {
            "tags": []
          },
          "execution_count": 12
        }
      ]
    },
    {
      "cell_type": "code",
      "metadata": {
        "id": "cAbkuyYTg72H",
        "colab_type": "code",
        "colab": {}
      },
      "source": [
        "def RunArchitureB(k1,k2,indice):\n",
        "    X_train_extra, X_test_extra = get_X_extra(y_train, y_test, k0=k1, k1=k2)\n",
        "    X_train_extra[:10]\n",
        "    fActivation = [\"linear\", \"relu\", \"tanh\"]\n",
        "    i=3\n",
        "    for act in fActivation:\n",
        "      model = get_model_B(input_dim=X.shape[1], extra_info_dim=X_train_extra.shape[1], s1=50, s2=30, s3=20,\n",
        "                   s3_activation=act)\n",
        "      model.fit([X_train, X_train_extra], y_train_oh, epochs=200, verbose=0, batch_size=32, \n",
        "          validation_data=([X_test, X_test_extra], y_test_oh))\n",
        "      preds_train = model.predict([X_train, X_train_extra]).argmax(axis=1)\n",
        "      preds_test = model.predict([X_test, X_test_extra]).argmax(axis=1)\n",
        "      r_test.iloc[i][indice]=np.mean(preds_test==y_test)\n",
        "      i = i + 1\n"
      ],
      "execution_count": 0,
      "outputs": []
    },
    {
      "cell_type": "code",
      "metadata": {
        "id": "UGt2XkMqjNGo",
        "colab_type": "code",
        "colab": {}
      },
      "source": [
        "RunArchitureB(0,1,0)"
      ],
      "execution_count": 0,
      "outputs": []
    },
    {
      "cell_type": "code",
      "metadata": {
        "id": "2mVFbC_0ktXn",
        "colab_type": "code",
        "colab": {}
      },
      "source": [
        "RunArchitureB(-0.5,2,1)"
      ],
      "execution_count": 0,
      "outputs": []
    },
    {
      "cell_type": "code",
      "metadata": {
        "id": "YCt1tQOVktLm",
        "colab_type": "code",
        "colab": {}
      },
      "source": [
        "RunArchitureB(-0.5,30,2)"
      ],
      "execution_count": 0,
      "outputs": []
    },
    {
      "cell_type": "code",
      "metadata": {
        "id": "UbABHJDt5SNj",
        "colab_type": "code",
        "colab": {}
      },
      "source": [
        "RunArchitureB(0,15,3)"
      ],
      "execution_count": 0,
      "outputs": []
    },
    {
      "cell_type": "code",
      "metadata": {
        "id": "HcENWw9d5Xx5",
        "colab_type": "code",
        "colab": {}
      },
      "source": [
        "RunArchitureB(0,30,4)"
      ],
      "execution_count": 0,
      "outputs": []
    },
    {
      "cell_type": "markdown",
      "metadata": {
        "id": "gdWaWFz-7PFs",
        "colab_type": "text"
      },
      "source": [
        "### Architure C"
      ]
    },
    {
      "cell_type": "code",
      "metadata": {
        "id": "dLyIjB_I7OG6",
        "colab_type": "code",
        "colab": {}
      },
      "source": [
        "def RunArchitureC(k1,k2,indice):\n",
        "    X_train_extra, X_test_extra = get_X_extra(y_train, y_test, k0=k1, k1=k2)\n",
        "    X_train_extra[:10]\n",
        "    fActivation = [\"linear\", \"relu\", \"tanh\"]\n",
        "    i=6\n",
        "    for act in fActivation:\n",
        "      model = get_model_C(input_dim=X.shape[1], extra_info_dim=X_train_extra.shape[1], s1=50, s2=30, s3=20,\n",
        "                   s3_activation=act)\n",
        "      model.fit([X_train, X_train_extra], y_train_oh, epochs=200, verbose=0, batch_size=32, \n",
        "          validation_data=([X_test, X_test_extra], y_test_oh))\n",
        "      preds_train = model.predict([X_train, X_train_extra]).argmax(axis=1)\n",
        "      preds_test = model.predict([X_test, X_test_extra]).argmax(axis=1)\n",
        "      r_test.iloc[i][indice]=np.mean(preds_test==y_test)\n",
        "      i = i + 1"
      ],
      "execution_count": 0,
      "outputs": []
    },
    {
      "cell_type": "code",
      "metadata": {
        "id": "81j1PsRa7oGG",
        "colab_type": "code",
        "colab": {}
      },
      "source": [
        "RunArchitureC(0,1,0)"
      ],
      "execution_count": 0,
      "outputs": []
    },
    {
      "cell_type": "code",
      "metadata": {
        "id": "IUHOi_2_8GbR",
        "colab_type": "code",
        "colab": {}
      },
      "source": [
        "RunArchitureC(-0.5,2,1)"
      ],
      "execution_count": 0,
      "outputs": []
    },
    {
      "cell_type": "code",
      "metadata": {
        "id": "lpz9yGeg8HIM",
        "colab_type": "code",
        "colab": {}
      },
      "source": [
        "RunArchitureC(-0.5,30,2)"
      ],
      "execution_count": 0,
      "outputs": []
    },
    {
      "cell_type": "code",
      "metadata": {
        "id": "V6j7XZwC8NL7",
        "colab_type": "code",
        "colab": {}
      },
      "source": [
        "RunArchitureC(0,15,3)"
      ],
      "execution_count": 0,
      "outputs": []
    },
    {
      "cell_type": "code",
      "metadata": {
        "id": "tOXVWMoE8Qb0",
        "colab_type": "code",
        "colab": {}
      },
      "source": [
        "RunArchitureC(0,30,4)"
      ],
      "execution_count": 0,
      "outputs": []
    },
    {
      "cell_type": "code",
      "metadata": {
        "id": "UmGZLaWujfQp",
        "colab_type": "code",
        "colab": {}
      },
      "source": [
        "r_test"
      ],
      "execution_count": 0,
      "outputs": []
    },
    {
      "cell_type": "code",
      "metadata": {
        "id": "EJkRtilgahZ0",
        "colab_type": "code",
        "colab": {}
      },
      "source": [
        "X_train_extra, X_test_extra = get_X_extra(y_train, y_test, k0=0, k1=1)\n",
        "X_train_extra[:10]"
      ],
      "execution_count": 0,
      "outputs": []
    },
    {
      "cell_type": "code",
      "metadata": {
        "id": "d-YGwM0gFBAM",
        "colab_type": "code",
        "colab": {}
      },
      "source": [
        ""
      ],
      "execution_count": 0,
      "outputs": []
    },
    {
      "cell_type": "markdown",
      "metadata": {
        "id": "LLIaFLCmmy1m",
        "colab_type": "text"
      },
      "source": [
        "### Build a loop over the configurations"
      ]
    },
    {
      "cell_type": "code",
      "metadata": {
        "id": "iATKZYDTmy1n",
        "colab_type": "code",
        "outputId": "c2d184fa-77f3-47b4-afcf-a3428c745f0f",
        "colab": {
          "base_uri": "https://localhost:8080/",
          "height": 968
        }
      },
      "source": [
        "\n",
        "k_set     = [(0,1), (-.5,2),(-.5,30), (0,15),(0,30), None]\n",
        "act_set   = [\"linear\", \"relu\", \"tanh\"]\n",
        "arch_set  = [\"A\", \"B\", \"C\"]\n",
        "\n",
        "for k, act, arch in itertools.product(k_set, act_set, arch_set):\n",
        "    \n",
        "    print (\"%10s %8s %1s\"%(str(k), act, arch)) \n",
        "   \n",
        "    \n",
        "    #... PERFORM EXPERIMENT ACCORDING TO PARAMETERS ...\n",
        "    \n",
        "\n"
      ],
      "execution_count": 196,
      "outputs": [
        {
          "output_type": "stream",
          "text": [
            "    (0, 1)   linear A\n",
            "    (0, 1)   linear B\n",
            "    (0, 1)   linear C\n",
            "    (0, 1)     relu A\n",
            "    (0, 1)     relu B\n",
            "    (0, 1)     relu C\n",
            "    (0, 1)     tanh A\n",
            "    (0, 1)     tanh B\n",
            "    (0, 1)     tanh C\n",
            " (-0.5, 2)   linear A\n",
            " (-0.5, 2)   linear B\n",
            " (-0.5, 2)   linear C\n",
            " (-0.5, 2)     relu A\n",
            " (-0.5, 2)     relu B\n",
            " (-0.5, 2)     relu C\n",
            " (-0.5, 2)     tanh A\n",
            " (-0.5, 2)     tanh B\n",
            " (-0.5, 2)     tanh C\n",
            "(-0.5, 30)   linear A\n",
            "(-0.5, 30)   linear B\n",
            "(-0.5, 30)   linear C\n",
            "(-0.5, 30)     relu A\n",
            "(-0.5, 30)     relu B\n",
            "(-0.5, 30)     relu C\n",
            "(-0.5, 30)     tanh A\n",
            "(-0.5, 30)     tanh B\n",
            "(-0.5, 30)     tanh C\n",
            "   (0, 15)   linear A\n",
            "   (0, 15)   linear B\n",
            "   (0, 15)   linear C\n",
            "   (0, 15)     relu A\n",
            "   (0, 15)     relu B\n",
            "   (0, 15)     relu C\n",
            "   (0, 15)     tanh A\n",
            "   (0, 15)     tanh B\n",
            "   (0, 15)     tanh C\n",
            "   (0, 30)   linear A\n",
            "   (0, 30)   linear B\n",
            "   (0, 30)   linear C\n",
            "   (0, 30)     relu A\n",
            "   (0, 30)     relu B\n",
            "   (0, 30)     relu C\n",
            "   (0, 30)     tanh A\n",
            "   (0, 30)     tanh B\n",
            "   (0, 30)     tanh C\n",
            "      None   linear A\n",
            "      None   linear B\n",
            "      None   linear C\n",
            "      None     relu A\n",
            "      None     relu B\n",
            "      None     relu C\n",
            "      None     tanh A\n",
            "      None     tanh B\n",
            "      None     tanh C\n"
          ],
          "name": "stdout"
        }
      ]
    },
    {
      "cell_type": "code",
      "metadata": {
        "id": "nDOgUQOnmy1u",
        "colab_type": "code",
        "colab": {}
      },
      "source": [
        "\n",
        "r_test"
      ],
      "execution_count": 0,
      "outputs": []
    },
    {
      "cell_type": "markdown",
      "metadata": {
        "id": "eQ8KQZGCmy1z",
        "colab_type": "text"
      },
      "source": [
        "### Build the heatmap"
      ]
    },
    {
      "cell_type": "code",
      "metadata": {
        "id": "SXcrwWKymy10",
        "colab_type": "code",
        "colab": {
          "base_uri": "https://localhost:8080/",
          "height": 327
        },
        "outputId": "4c3a30c3-12f0-44e2-d2e8-f1e0aa11406a"
      },
      "source": [
        "plt.figure(figsize=(8,4))\n",
        "test_t=r_test.T.reindex(index=r_test.T.index[::-1])\n",
        "plt.pcolor(test_t)\n",
        "plt.xticks(np.arange(0, len(test_t.columns), 1), test_t.columns,rotation=90)\n",
        "plt.yticks(np.arange(0, len(test_t.index), 1), test_t.index) \n",
        "plt.colorbar()\n",
        "plt.title('Test accuracy')\n",
        "plt.show()"
      ],
      "execution_count": 187,
      "outputs": [
        {
          "output_type": "display_data",
          "data": {
            "image/png": "[encoded data removed]",
            "text/plain": [
              "<Figure size 576x288 with 2 Axes>"
            ]
          },
          "metadata": {
            "tags": []
          }
        }
      ]
    },
    {
      "cell_type": "markdown",
      "metadata": {
        "id": "3RxXHod4my14",
        "colab_type": "text"
      },
      "source": [
        "### Build the bar plots"
      ]
    },
    {
      "cell_type": "code",
      "metadata": {
        "id": "A8EyiiiJmy15",
        "colab_type": "code",
        "colab": {}
      },
      "source": [
        "\n",
        "\n",
        "plt.figure(figsize=(15,4))\n",
        "plt.subplot(121)\n",
        "\n",
        "... YOUR CODE HERE ...\n",
        "\n",
        "plt.subplot(122)\n",
        "\n",
        "... YOUR CODE HERE ..."
      ],
      "execution_count": 0,
      "outputs": []
    },
    {
      "cell_type": "code",
      "metadata": {
        "id": "KP2Nm9TWmy2B",
        "colab_type": "code",
        "colab": {}
      },
      "source": [
        ""
      ],
      "execution_count": 0,
      "outputs": []
    }
  ]
}