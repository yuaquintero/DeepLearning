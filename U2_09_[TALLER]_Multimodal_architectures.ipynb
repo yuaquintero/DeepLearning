{
  "nbformat": 4,
  "nbformat_minor": 0,
  "metadata": {
    "kernelspec": {
      "display_name": "Python 3",
      "language": "python",
      "name": "python3"
    },
    "language_info": {
      "codemirror_mode": {
        "name": "ipython",
        "version": 3
      },
      "file_extension": ".py",
      "mimetype": "text/x-python",
      "name": "python",
      "nbconvert_exporter": "python",
      "pygments_lexer": "ipython3",
      "version": "3.7.3"
    },
    "colab": {
      "name": "U2.09 - [TALLER] - Multimodal architectures.ipynb",
      "provenance": [],
      "collapsed_sections": [],
      "include_colab_link": true
    }
  },
  "cells": [
    {
      "cell_type": "markdown",
      "metadata": {
        "id": "view-in-github",
        "colab_type": "text"
      },
      "source": [
        "<a href=\"https://colab.research.google.com/github/yuaquintero/DeepLearning/blob/master/U2_09_%5BTALLER%5D_Multimodal_architectures.ipynb\" target=\"_parent\"><img src=\"https://colab.research.google.com/assets/colab-badge.svg\" alt=\"Open In Colab\"/></a>"
      ]
    },
    {
      "cell_type": "code",
      "metadata": {
        "id": "UaKpLDClmyzY",
        "colab_type": "code",
        "colab": {}
      },
      "source": [
        "!wget --no-cache -O init.py -q https://raw.githubusercontent.com/rramosp/2020.deeplearning/master/init.py\n",
        "from init import init; init(force_download=False)"
      ],
      "execution_count": 0,
      "outputs": []
    },
    {
      "cell_type": "code",
      "metadata": {
        "id": "qH-0xJH8myzp",
        "colab_type": "code",
        "outputId": "bd76f6a9-ba18-408a-a805-7273ea94c947",
        "colab": {
          "base_uri": "https://localhost:8080/",
          "height": 70
        }
      },
      "source": [
        "import sys\n",
        "if 'google.colab' in sys.modules:\n",
        "    print (\"setting tensorflow version in colab\")\n",
        "    %tensorflow_version 2.x\n",
        "import tensorflow as tf\n",
        "tf.__version__"
      ],
      "execution_count": 0,
      "outputs": [
        {
          "output_type": "stream",
          "text": [
            "setting tensorflow version in colab\n",
            "TensorFlow 2.x selected.\n"
          ],
          "name": "stdout"
        },
        {
          "output_type": "execute_result",
          "data": {
            "text/plain": [
              "'2.1.0'"
            ]
          },
          "metadata": {
            "tags": []
          },
          "execution_count": 3
        }
      ]
    },
    {
      "cell_type": "code",
      "metadata": {
        "id": "4nOV5pn1myz7",
        "colab_type": "code",
        "colab": {}
      },
      "source": [
        "import numpy as np\n",
        "import matplotlib.pyplot as plt\n",
        "import pandas as pd\n",
        "import itertools\n",
        "from IPython.display import Image\n",
        "\n",
        "%matplotlib inline"
      ],
      "execution_count": 0,
      "outputs": []
    },
    {
      "cell_type": "code",
      "metadata": {
        "id": "MAkQaPcSmy0L",
        "colab_type": "code",
        "outputId": "00dcb259-383d-4845-9ae4-7a09f4cf8fa2",
        "colab": {
          "base_uri": "https://localhost:8080/",
          "height": 35
        }
      },
      "source": [
        "mnist = pd.read_csv(\"local/data/mnist1.5k.csv.gz\", compression=\"gzip\", header=None).values\n",
        "X=mnist[:,1:785]/255.\n",
        "y=mnist[:,0]\n",
        "print(\"dimension de las imagenes y las clases\", X.shape, y.shape)"
      ],
      "execution_count": 0,
      "outputs": [
        {
          "output_type": "stream",
          "text": [
            "dimension de las imagenes y las clases (1500, 784) (1500,)\n"
          ],
          "name": "stdout"
        }
      ]
    },
    {
      "cell_type": "code",
      "metadata": {
        "id": "-sZ0NqyNmy0U",
        "colab_type": "code",
        "outputId": "845943a3-e3be-4a4f-8c39-6bcfc35875e5",
        "colab": {
          "base_uri": "https://localhost:8080/",
          "height": 35
        }
      },
      "source": [
        "X_train, X_test, y_train, y_test = X[:300], X[300:], y[:300], y[300:]\n",
        "y_train_oh = np.eye(10)[y_train]\n",
        "y_test_oh  = np.eye(10)[y_test]\n",
        "print(X_train.shape, y_train_oh.shape,  X_test.shape, y_test_oh.shape)"
      ],
      "execution_count": 0,
      "outputs": [
        {
          "output_type": "stream",
          "text": [
            "(300, 784) (300, 10) (1200, 784) (1200, 10)\n"
          ],
          "name": "stdout"
        }
      ]
    },
    {
      "cell_type": "code",
      "metadata": {
        "id": "hHwykrYKp6ST",
        "colab_type": "code",
        "outputId": "240fe862-bc74-4004-be4c-644533eb47b1",
        "colab": {
          "base_uri": "https://localhost:8080/",
          "height": 140
        }
      },
      "source": [
        "print(y_test_oh)"
      ],
      "execution_count": 0,
      "outputs": [
        {
          "output_type": "stream",
          "text": [
            "[[0. 0. 0. ... 0. 1. 0.]\n",
            " [0. 0. 0. ... 0. 0. 0.]\n",
            " [0. 0. 1. ... 0. 0. 0.]\n",
            " ...\n",
            " [0. 0. 1. ... 0. 0. 0.]\n",
            " [0. 0. 0. ... 0. 1. 0.]\n",
            " [0. 0. 1. ... 0. 0. 0.]]\n"
          ],
          "name": "stdout"
        }
      ]
    },
    {
      "cell_type": "code",
      "metadata": {
        "id": "6h2qf2c3p6LW",
        "colab_type": "code",
        "colab": {}
      },
      "source": [
        ""
      ],
      "execution_count": 0,
      "outputs": []
    },
    {
      "cell_type": "markdown",
      "metadata": {
        "id": "RetcOKhkmy0Z",
        "colab_type": "text"
      },
      "source": [
        "## Network architectures lab\n",
        "\n",
        "\n",
        "from the notes we have two architectures:\n",
        "    \n",
        "- **A**: Three layer network accepting a 784 element vector as input and outputing a 10-class vector\n",
        "- **B**: Same as **A** but accepts an additional 2 element vector with _evenness_ information that is injected at the third layer.\n",
        "\n",
        "This lab requires you to do two things:\n",
        "\n",
        "**1**. Create a **C** architecture similar to **B** but where the 2 element vector is injected at the second layer. This will make the network have 41,650 parameters, distributed in the following way:\n",
        "   \n",
        "   \n",
        "\n",
        "        INPUT 1 to LAYER 1:              784*50 + 50 (bias) = 39250\n",
        "        LAYER 1 to LAYER 2:               50*30 + 30 (bias) = 1530\n",
        "        LAYER 2 + INPUT 2 to LAYER 3: (30+2)*20 + 20 (bias) = 660\n",
        "        LAYER 3 to OUTPUT:                20*10 + 10 (bias) = 210\n",
        "    \n",
        "                                                       TOTAL 41650\n",
        "                                                       \n",
        "**2**. Run an experimental setup where you train different network configurations and measure the accuracy on test data. Fix the number of neurons to 50, 30 and 20 for each layer and the following combination of parameters:\n",
        "\n",
        "- For architecture **A** (3 configurations)\n",
        "\n",
        "    `s3_activation` $\\in$ `[\"linear\", \"relu\", \"tanh\"]`\n",
        "\n",
        "- For architectures **B** and **C** (15 configurations for each architecture)\n",
        "\n",
        "    `s3_activation` $\\in$ `[\"linear\", \"relu\", \"tanh\"]`\n",
        "    \n",
        "    `k1,k2` $\\in$ `[(0,1), (-.5,2),(-.5,30), (0,15),(0,30)]`\n",
        "\n",
        "And create a heat map showing the accuracy in test obtained for each configuration, such as the following (your results should be approximate to this):"
      ]
    },
    {
      "cell_type": "code",
      "metadata": {
        "id": "4SEi5WQEmy0e",
        "colab_type": "code",
        "outputId": "fc36e5d6-ae89-4dbb-a71f-d12c3d37264d",
        "colab": {}
      },
      "source": [
        "Image(filename='local/imgs/mm_results_1.png')"
      ],
      "execution_count": 0,
      "outputs": [
        {
          "output_type": "execute_result",
          "data": {
            "image/png": "[encoded data removed]",
            "text/plain": [
              "<IPython.core.display.Image object>"
            ]
          },
          "metadata": {
            "tags": []
          },
          "execution_count": 2
        }
      ]
    },
    {
      "cell_type": "markdown",
      "metadata": {
        "id": "-NyPNhOFmy0j",
        "colab_type": "text"
      },
      "source": [
        "And two bar plots with the average per architecture and k1,k2 configuration, such as the following (again, your results should be approximetely similar):"
      ]
    },
    {
      "cell_type": "code",
      "metadata": {
        "scrolled": true,
        "id": "R9MxpLR4my0l",
        "colab_type": "code",
        "outputId": "5e74ee38-11e4-4219-b2af-82108b9ca30a",
        "colab": {}
      },
      "source": [
        "Image(filename='local/imgs/mm_results_2.png')"
      ],
      "execution_count": 0,
      "outputs": [
        {
          "output_type": "execute_result",
          "data": {
            "image/png": "[encoded data removed]",
            "text/plain": [
              "<IPython.core.display.Image object>"
            ]
          },
          "metadata": {
            "tags": []
          },
          "execution_count": 3
        }
      ]
    },
    {
      "cell_type": "markdown",
      "metadata": {
        "id": "HSRdX8Gjmy0x",
        "colab_type": "text"
      },
      "source": [
        "### Model definitions"
      ]
    },
    {
      "cell_type": "code",
      "metadata": {
        "id": "TWluowxbmy0y",
        "colab_type": "code",
        "colab": {}
      },
      "source": [
        "from tensorflow.keras import Sequential, Model\n",
        "from tensorflow.keras.layers import Dense, Dropout, Flatten, concatenate, Input\n",
        "from tensorflow.keras.backend import clear_session"
      ],
      "execution_count": 0,
      "outputs": []
    },
    {
      "cell_type": "code",
      "metadata": {
        "id": "ohVQPTe_my02",
        "colab_type": "code",
        "colab": {}
      },
      "source": [
        "def get_model_A(input_dim, s1, s2, s3, s3_activation=\"relu\"):\n",
        "    clear_session()\n",
        "    model = Sequential()\n",
        "    model.add(Dense(s1, activation='relu', input_dim=input_dim))\n",
        "    model.add(Dense(s2, activation='relu'))\n",
        "    model.add(Dense(s3, activation=s3_activation))\n",
        "    model.add(Dense(10, activation='softmax'))\n",
        "    model.compile(optimizer='adam', loss='categorical_crossentropy')\n",
        "    model.reset_states()\n",
        "    \n",
        "    return model"
      ],
      "execution_count": 0,
      "outputs": []
    },
    {
      "cell_type": "code",
      "metadata": {
        "id": "FtIVouxtmy1M",
        "colab_type": "code",
        "colab": {}
      },
      "source": [
        "def get_model_B(input_dim, extra_info_dim,  s1, s2, s3, s3_activation=\"relu\"):\n",
        "    clear_session()\n",
        "    inp1 = Input(shape=(input_dim,))\n",
        "    l11 = Dense(s1, activation=\"relu\")(inp1)\n",
        "    l12 = Dense(s2, activation=\"relu\")(l11)\n",
        "    l13 = Dense(s3, activation=s3_activation)(l12)  \n",
        "    inp2 = Input(shape=(extra_info_dim,))\n",
        "    cc1 = concatenate([l13, inp2],axis=1) # Merge row, same column\n",
        "    output = Dense(10, activation='softmax')(cc1)\n",
        "    model = Model(inputs=[inp1, inp2], outputs=output)\n",
        "    model.compile(optimizer='adam', loss='categorical_crossentropy')\n",
        "    model.reset_states()\n",
        "    return model "
      ],
      "execution_count": 0,
      "outputs": []
    },
    {
      "cell_type": "code",
      "metadata": {
        "id": "kzIgGfMYmy1U",
        "colab_type": "code",
        "colab": {}
      },
      "source": [
        "def get_model_C(input_dim, extra_info_dim, s1, s2, s3, s3_activation=\"relu\"):\n",
        "    clear_session()\n",
        "    inp1 = Input(shape=(input_dim,))\n",
        "    l11 = Dense(s1, activation=\"relu\")(inp1)\n",
        "    l12 = Dense(s2, activation=\"relu\")(l11)\n",
        "    inp2 = Input(shape=(extra_info_dim,))\n",
        "    cc1 = concatenate([l12, inp2],axis=1) # Merge row, same column\n",
        "    l13 = Dense(s3, activation=s3_activation)(cc1)\n",
        "    output = Dense(10, activation='softmax')(l13)\n",
        "    model = Model(inputs=[inp1, inp2], outputs=output)\n",
        "    model.compile(optimizer='adam', loss='categorical_crossentropy')\n",
        "    model.reset_states()\n",
        "    return model"
      ],
      "execution_count": 0,
      "outputs": []
    },
    {
      "cell_type": "code",
      "metadata": {
        "id": "pMYjBeQgmy1X",
        "colab_type": "code",
        "colab": {}
      },
      "source": [
        "def get_X_extra(y_train, y_test, k0, k1):\n",
        "    X_train_extra = (np.eye(2)[y_train%2]+k0)*k1\n",
        "    X_test_extra  = (np.eye(2)[y_test%2]+k0)*k1\n",
        "    return X_train_extra, X_test_extra"
      ],
      "execution_count": 0,
      "outputs": []
    },
    {
      "cell_type": "code",
      "metadata": {
        "id": "mOdWnR8zEZFu",
        "colab_type": "code",
        "outputId": "f57d4301-2ed8-4e15-9358-efc806a716c2",
        "colab": {
          "base_uri": "https://localhost:8080/",
          "height": 193
        }
      },
      "source": [
        "X_train_extra, X_test_extra = get_X_extra(y_train, y_test, k0=-.5, k1=2)\n",
        "X_train_extra[:10]"
      ],
      "execution_count": 0,
      "outputs": [
        {
          "output_type": "execute_result",
          "data": {
            "text/plain": [
              "array([[-1.,  1.],\n",
              "       [ 1., -1.],\n",
              "       [-1.,  1.],\n",
              "       [ 1., -1.],\n",
              "       [ 1., -1.],\n",
              "       [ 1., -1.],\n",
              "       [-1.,  1.],\n",
              "       [-1.,  1.],\n",
              "       [-1.,  1.],\n",
              "       [-1.,  1.]])"
            ]
          },
          "metadata": {
            "tags": []
          },
          "execution_count": 13
        }
      ]
    },
    {
      "cell_type": "markdown",
      "metadata": {
        "id": "r-lbeud4my1i",
        "colab_type": "text"
      },
      "source": [
        "### Use the following dataframe to record your data "
      ]
    },
    {
      "cell_type": "code",
      "metadata": {
        "id": "15iLj3tLmy1j",
        "colab_type": "code",
        "outputId": "b640b485-361d-4917-b712-93667399fd98",
        "colab": {
          "base_uri": "https://localhost:8080/",
          "height": 334
        }
      },
      "source": [
        "k_set     = [(0,1), (-.5,2),(-.5,30), (0,15),(0,30), None]\n",
        "act_set   = [\"linear\", \"relu\", \"tanh\"]\n",
        "arch_set  = [\"A\", \"B\", \"C\"]\n",
        "\n",
        "\n",
        "r_test = pd.DataFrame(np.zeros((len(arch_set)*len(act_set), len(k_set)))*np.nan, \n",
        "                      index=[[a+\"-\"+b for a,b in itertools.product (arch_set, act_set)]],\n",
        "                      columns=[str(i) for i in k_set])\n",
        "r_test"
      ],
      "execution_count": 0,
      "outputs": [
        {
          "output_type": "execute_result",
          "data": {
            "text/html": [
              "<div>\n",
              "<style scoped>\n",
              "    .dataframe tbody tr th:only-of-type {\n",
              "        vertical-align: middle;\n",
              "    }\n",
              "\n",
              "    .dataframe tbody tr th {\n",
              "        vertical-align: top;\n",
              "    }\n",
              "\n",
              "    .dataframe thead th {\n",
              "        text-align: right;\n",
              "    }\n",
              "</style>\n",
              "<table border=\"1\" class=\"dataframe\">\n",
              "  <thead>\n",
              "    <tr style=\"text-align: right;\">\n",
              "      <th></th>\n",
              "      <th>(0, 1)</th>\n",
              "      <th>(-0.5, 2)</th>\n",
              "      <th>(-0.5, 30)</th>\n",
              "      <th>(0, 15)</th>\n",
              "      <th>(0, 30)</th>\n",
              "      <th>None</th>\n",
              "    </tr>\n",
              "  </thead>\n",
              "  <tbody>\n",
              "    <tr>\n",
              "      <th>A-linear</th>\n",
              "      <td>NaN</td>\n",
              "      <td>NaN</td>\n",
              "      <td>NaN</td>\n",
              "      <td>NaN</td>\n",
              "      <td>NaN</td>\n",
              "      <td>NaN</td>\n",
              "    </tr>\n",
              "    <tr>\n",
              "      <th>A-relu</th>\n",
              "      <td>NaN</td>\n",
              "      <td>NaN</td>\n",
              "      <td>NaN</td>\n",
              "      <td>NaN</td>\n",
              "      <td>NaN</td>\n",
              "      <td>NaN</td>\n",
              "    </tr>\n",
              "    <tr>\n",
              "      <th>A-tanh</th>\n",
              "      <td>NaN</td>\n",
              "      <td>NaN</td>\n",
              "      <td>NaN</td>\n",
              "      <td>NaN</td>\n",
              "      <td>NaN</td>\n",
              "      <td>NaN</td>\n",
              "    </tr>\n",
              "    <tr>\n",
              "      <th>B-linear</th>\n",
              "      <td>NaN</td>\n",
              "      <td>NaN</td>\n",
              "      <td>NaN</td>\n",
              "      <td>NaN</td>\n",
              "      <td>NaN</td>\n",
              "      <td>NaN</td>\n",
              "    </tr>\n",
              "    <tr>\n",
              "      <th>B-relu</th>\n",
              "      <td>NaN</td>\n",
              "      <td>NaN</td>\n",
              "      <td>NaN</td>\n",
              "      <td>NaN</td>\n",
              "      <td>NaN</td>\n",
              "      <td>NaN</td>\n",
              "    </tr>\n",
              "    <tr>\n",
              "      <th>B-tanh</th>\n",
              "      <td>NaN</td>\n",
              "      <td>NaN</td>\n",
              "      <td>NaN</td>\n",
              "      <td>NaN</td>\n",
              "      <td>NaN</td>\n",
              "      <td>NaN</td>\n",
              "    </tr>\n",
              "    <tr>\n",
              "      <th>C-linear</th>\n",
              "      <td>NaN</td>\n",
              "      <td>NaN</td>\n",
              "      <td>NaN</td>\n",
              "      <td>NaN</td>\n",
              "      <td>NaN</td>\n",
              "      <td>NaN</td>\n",
              "    </tr>\n",
              "    <tr>\n",
              "      <th>C-relu</th>\n",
              "      <td>NaN</td>\n",
              "      <td>NaN</td>\n",
              "      <td>NaN</td>\n",
              "      <td>NaN</td>\n",
              "      <td>NaN</td>\n",
              "      <td>NaN</td>\n",
              "    </tr>\n",
              "    <tr>\n",
              "      <th>C-tanh</th>\n",
              "      <td>NaN</td>\n",
              "      <td>NaN</td>\n",
              "      <td>NaN</td>\n",
              "      <td>NaN</td>\n",
              "      <td>NaN</td>\n",
              "      <td>NaN</td>\n",
              "    </tr>\n",
              "  </tbody>\n",
              "</table>\n",
              "</div>"
            ],
            "text/plain": [
              "          (0, 1)  (-0.5, 2)  (-0.5, 30)  (0, 15)  (0, 30)  None\n",
              "A-linear     NaN        NaN         NaN      NaN      NaN   NaN\n",
              "A-relu       NaN        NaN         NaN      NaN      NaN   NaN\n",
              "A-tanh       NaN        NaN         NaN      NaN      NaN   NaN\n",
              "B-linear     NaN        NaN         NaN      NaN      NaN   NaN\n",
              "B-relu       NaN        NaN         NaN      NaN      NaN   NaN\n",
              "B-tanh       NaN        NaN         NaN      NaN      NaN   NaN\n",
              "C-linear     NaN        NaN         NaN      NaN      NaN   NaN\n",
              "C-relu       NaN        NaN         NaN      NaN      NaN   NaN\n",
              "C-tanh       NaN        NaN         NaN      NaN      NaN   NaN"
            ]
          },
          "metadata": {
            "tags": []
          },
          "execution_count": 14
        }
      ]
    },
    {
      "cell_type": "markdown",
      "metadata": {
        "id": "LLIaFLCmmy1m",
        "colab_type": "text"
      },
      "source": [
        "### Build a loop over the configurations"
      ]
    },
    {
      "cell_type": "code",
      "metadata": {
        "id": "iATKZYDTmy1n",
        "colab_type": "code",
        "outputId": "1ec3a03d-2a21-4961-8f75-f517a5cfbd63",
        "colab": {
          "base_uri": "https://localhost:8080/",
          "height": 1000
        }
      },
      "source": [
        "mapping = {\n",
        "  \"get_model_A\": get_model_A,\n",
        "  \"get_model_B\": get_model_B,\n",
        "  \"get_model_C\": get_model_C\n",
        "}\n",
        "k_set     = [(0,1), (-.5,2),(-.5,30), (0,15),(0,30), None]\n",
        "act_set   = [\"linear\", \"relu\", \"tanh\"]\n",
        "arch_set  = [\"A\", \"B\", \"C\"]\n",
        "c=0\n",
        "f=3\n",
        "for k, arch,act in itertools.product(k_set, arch_set,act_set):\n",
        "    if k!=None and arch !='A':\n",
        "     print (\"%10s %8s %1s\"%(str(k), act, arch)) \n",
        "     X_train_extra, X_test_extra = get_X_extra(y_train, y_test, k0=k[0], k1=k[1])\n",
        "     X_train_extra[:10]\n",
        "     cust_func = locals()['get_model_' + str(arch)]\n",
        "     model = cust_func(input_dim=X.shape[1], extra_info_dim=X_train_extra.shape[1], s1=50, s2=30, s3=20,\n",
        "                   s3_activation=act)\n",
        "     model.fit([X_train, X_train_extra], y_train_oh, epochs=200, verbose=0, batch_size=32, \n",
        "               validation_data=([X_test, X_test_extra], y_test_oh))\n",
        "     preds_test = model.predict([X_test, X_test_extra]).argmax(axis=1)\n",
        "     accur=np.mean(preds_test==y_test)\n",
        "     r_test.iloc[f][c]=accur\n",
        "     print('accuracy: %f'%(accur))\n",
        "     if(f>=8):\n",
        "        f=2\n",
        "        c = c + 1\n",
        "     f=f+1  \n",
        "    elif k==None and arch =='A':\n",
        "     print (\"%10s %8s %1s\"%(str(k), act, arch))\n",
        "     if(f>2):\n",
        "        f=0 \n",
        "     cust_func = locals()['get_model_' + str(arch)]   \n",
        "     model = cust_func(input_dim=X.shape[1], s1=50, s2=30, s3=20,s3_activation=act)\n",
        "     model.fit(X_train, y_train_oh, epochs=200, verbose=0, batch_size=32, validation_data=(X_test, y_test_oh))\n",
        "     preds_test = model.predict(X_test).argmax(axis=1)\n",
        "     accur=np.mean(preds_test==y_test)\n",
        "     r_test.iloc[f][c]=accur\n",
        "     print('accuracy: %f'%(accur))\n",
        "     f=f+1"
      ],
      "execution_count": 0,
      "outputs": [
        {
          "output_type": "stream",
          "text": [
            "    (0, 1)   linear B\n",
            "accuracy: 0.811667\n",
            "    (0, 1)     relu B\n",
            "accuracy: 0.810000\n",
            "    (0, 1)     tanh B\n",
            "accuracy: 0.813333\n",
            "    (0, 1)   linear C\n",
            "accuracy: 0.813333\n",
            "    (0, 1)     relu C\n",
            "accuracy: 0.815000\n",
            "    (0, 1)     tanh C\n",
            "accuracy: 0.822500\n",
            " (-0.5, 2)   linear B\n",
            "accuracy: 0.796667\n",
            " (-0.5, 2)     relu B\n",
            "accuracy: 0.803333\n",
            " (-0.5, 2)     tanh B\n",
            "accuracy: 0.817500\n",
            " (-0.5, 2)   linear C\n",
            "accuracy: 0.835833\n",
            " (-0.5, 2)     relu C\n",
            "accuracy: 0.839167\n",
            " (-0.5, 2)     tanh C\n",
            "accuracy: 0.827500\n",
            "(-0.5, 30)   linear B\n",
            "accuracy: 0.870833\n",
            "(-0.5, 30)     relu B\n",
            "accuracy: 0.839167\n",
            "(-0.5, 30)     tanh B\n",
            "accuracy: 0.852500\n",
            "(-0.5, 30)   linear C\n",
            "accuracy: 0.869167\n",
            "(-0.5, 30)     relu C\n",
            "accuracy: 0.846667\n",
            "(-0.5, 30)     tanh C\n",
            "accuracy: 0.876667\n",
            "   (0, 15)   linear B\n",
            "accuracy: 0.863333\n",
            "   (0, 15)     relu B\n",
            "accuracy: 0.826667\n",
            "   (0, 15)     tanh B\n",
            "accuracy: 0.835000\n",
            "   (0, 15)   linear C\n",
            "accuracy: 0.855833\n",
            "   (0, 15)     relu C\n",
            "accuracy: 0.869167\n",
            "   (0, 15)     tanh C\n",
            "accuracy: 0.880833\n",
            "   (0, 30)   linear B\n",
            "accuracy: 0.839167\n",
            "   (0, 30)     relu B\n",
            "accuracy: 0.871667\n",
            "   (0, 30)     tanh B\n",
            "accuracy: 0.870833\n",
            "   (0, 30)   linear C\n",
            "accuracy: 0.860833\n",
            "   (0, 30)     relu C\n",
            "accuracy: 0.860000\n",
            "   (0, 30)     tanh C\n",
            "accuracy: 0.864167\n",
            "      None   linear A\n",
            "accuracy: 0.815833\n",
            "      None     relu A\n",
            "accuracy: 0.794167\n",
            "      None     tanh A\n",
            "accuracy: 0.812500\n"
          ],
          "name": "stdout"
        }
      ]
    },
    {
      "cell_type": "code",
      "metadata": {
        "id": "nDOgUQOnmy1u",
        "colab_type": "code",
        "outputId": "49fd1df2-c929-476c-a7b4-9332ebeea3b6",
        "colab": {
          "base_uri": "https://localhost:8080/",
          "height": 334
        }
      },
      "source": [
        "\n",
        "r_test"
      ],
      "execution_count": 0,
      "outputs": [
        {
          "output_type": "execute_result",
          "data": {
            "text/html": [
              "<div>\n",
              "<style scoped>\n",
              "    .dataframe tbody tr th:only-of-type {\n",
              "        vertical-align: middle;\n",
              "    }\n",
              "\n",
              "    .dataframe tbody tr th {\n",
              "        vertical-align: top;\n",
              "    }\n",
              "\n",
              "    .dataframe thead th {\n",
              "        text-align: right;\n",
              "    }\n",
              "</style>\n",
              "<table border=\"1\" class=\"dataframe\">\n",
              "  <thead>\n",
              "    <tr style=\"text-align: right;\">\n",
              "      <th></th>\n",
              "      <th>(0, 1)</th>\n",
              "      <th>(-0.5, 2)</th>\n",
              "      <th>(-0.5, 30)</th>\n",
              "      <th>(0, 15)</th>\n",
              "      <th>(0, 30)</th>\n",
              "      <th>None</th>\n",
              "    </tr>\n",
              "  </thead>\n",
              "  <tbody>\n",
              "    <tr>\n",
              "      <th>A-linear</th>\n",
              "      <td>NaN</td>\n",
              "      <td>NaN</td>\n",
              "      <td>NaN</td>\n",
              "      <td>NaN</td>\n",
              "      <td>NaN</td>\n",
              "      <td>0.810000</td>\n",
              "    </tr>\n",
              "    <tr>\n",
              "      <th>A-relu</th>\n",
              "      <td>NaN</td>\n",
              "      <td>NaN</td>\n",
              "      <td>NaN</td>\n",
              "      <td>NaN</td>\n",
              "      <td>NaN</td>\n",
              "      <td>0.803333</td>\n",
              "    </tr>\n",
              "    <tr>\n",
              "      <th>A-tanh</th>\n",
              "      <td>NaN</td>\n",
              "      <td>NaN</td>\n",
              "      <td>NaN</td>\n",
              "      <td>NaN</td>\n",
              "      <td>NaN</td>\n",
              "      <td>0.806667</td>\n",
              "    </tr>\n",
              "    <tr>\n",
              "      <th>B-linear</th>\n",
              "      <td>0.807500</td>\n",
              "      <td>0.815000</td>\n",
              "      <td>0.849167</td>\n",
              "      <td>0.807500</td>\n",
              "      <td>0.803333</td>\n",
              "      <td>NaN</td>\n",
              "    </tr>\n",
              "    <tr>\n",
              "      <th>B-relu</th>\n",
              "      <td>0.805833</td>\n",
              "      <td>0.827500</td>\n",
              "      <td>0.814167</td>\n",
              "      <td>0.863333</td>\n",
              "      <td>0.794167</td>\n",
              "      <td>NaN</td>\n",
              "    </tr>\n",
              "    <tr>\n",
              "      <th>B-tanh</th>\n",
              "      <td>0.807500</td>\n",
              "      <td>0.827500</td>\n",
              "      <td>0.859167</td>\n",
              "      <td>0.823333</td>\n",
              "      <td>0.836667</td>\n",
              "      <td>NaN</td>\n",
              "    </tr>\n",
              "    <tr>\n",
              "      <th>C-linear</th>\n",
              "      <td>0.815000</td>\n",
              "      <td>0.830833</td>\n",
              "      <td>0.890000</td>\n",
              "      <td>0.881667</td>\n",
              "      <td>0.857500</td>\n",
              "      <td>NaN</td>\n",
              "    </tr>\n",
              "    <tr>\n",
              "      <th>C-relu</th>\n",
              "      <td>0.805000</td>\n",
              "      <td>0.799167</td>\n",
              "      <td>0.875833</td>\n",
              "      <td>0.853333</td>\n",
              "      <td>0.870000</td>\n",
              "      <td>NaN</td>\n",
              "    </tr>\n",
              "    <tr>\n",
              "      <th>C-tanh</th>\n",
              "      <td>0.821667</td>\n",
              "      <td>0.835000</td>\n",
              "      <td>0.875833</td>\n",
              "      <td>0.845833</td>\n",
              "      <td>0.880000</td>\n",
              "      <td>NaN</td>\n",
              "    </tr>\n",
              "  </tbody>\n",
              "</table>\n",
              "</div>"
            ],
            "text/plain": [
              "            (0, 1)  (-0.5, 2)  (-0.5, 30)   (0, 15)   (0, 30)      None\n",
              "A-linear       NaN        NaN         NaN       NaN       NaN  0.810000\n",
              "A-relu         NaN        NaN         NaN       NaN       NaN  0.803333\n",
              "A-tanh         NaN        NaN         NaN       NaN       NaN  0.806667\n",
              "B-linear  0.807500   0.815000    0.849167  0.807500  0.803333       NaN\n",
              "B-relu    0.805833   0.827500    0.814167  0.863333  0.794167       NaN\n",
              "B-tanh    0.807500   0.827500    0.859167  0.823333  0.836667       NaN\n",
              "C-linear  0.815000   0.830833    0.890000  0.881667  0.857500       NaN\n",
              "C-relu    0.805000   0.799167    0.875833  0.853333  0.870000       NaN\n",
              "C-tanh    0.821667   0.835000    0.875833  0.845833  0.880000       NaN"
            ]
          },
          "metadata": {
            "tags": []
          },
          "execution_count": 22
        }
      ]
    },
    {
      "cell_type": "markdown",
      "metadata": {
        "id": "eQ8KQZGCmy1z",
        "colab_type": "text"
      },
      "source": [
        "### Build the heatmap"
      ]
    },
    {
      "cell_type": "code",
      "metadata": {
        "id": "SXcrwWKymy10",
        "colab_type": "code",
        "outputId": "6e6e0e96-8a22-4185-f229-e69179fc6a00",
        "colab": {
          "base_uri": "https://localhost:8080/",
          "height": 327
        }
      },
      "source": [
        "plt.figure(figsize=(8,4))\n",
        "test_t=r_test.T.reindex(index=r_test.T.index[::-1])\n",
        "plt.pcolor(test_t)\n",
        "plt.xticks(np.arange(0, len(test_t.columns), 1), test_t.columns,rotation=90)\n",
        "plt.yticks(np.arange(0, len(test_t.index), 1), test_t.index) \n",
        "plt.colorbar()\n",
        "plt.title('Test accuracy')\n",
        "plt.show()"
      ],
      "execution_count": 0,
      "outputs": [
        {
          "output_type": "display_data",
          "data": {
            "image/png": "[encoded data removed]",
            "text/plain": [
              "<Figure size 576x288 with 2 Axes>"
            ]
          },
          "metadata": {
            "tags": []
          }
        }
      ]
    },
    {
      "cell_type": "markdown",
      "metadata": {
        "id": "3RxXHod4my14",
        "colab_type": "text"
      },
      "source": [
        "### Build the bar plots"
      ]
    },
    {
      "cell_type": "code",
      "metadata": {
        "id": "A8EyiiiJmy15",
        "colab_type": "code",
        "outputId": "6fcb0795-51c1-43ba-b580-af3dfa6c6371",
        "colab": {
          "base_uri": "https://localhost:8080/",
          "height": 344
        }
      },
      "source": [
        "plt.figure(figsize=(15,4))\n",
        "plt.subplot(121)\n",
        "mean_rows = test_t.mean(axis=0)\n",
        "newList = []\n",
        "r=0\n",
        "for i in range(0, mean_rows.values.shape[0], 1):\n",
        " r += mean_rows[i]\n",
        " if((i+1)%3==0):\n",
        "   newList.append(r/3)\n",
        "   r=0;\n",
        "yArch = np.asarray(newList)\n",
        "x=np.arange(3)\n",
        "plt.xticks(x, ('ArchA','ArchB','ArchC'))\n",
        "plt.bar(x, yArch)\n",
        "plt.ylim(0.76, 0.90)\n",
        "plt.ylabel('Mean accuracy')\n",
        "#Second plot\n",
        "plt.subplot(122)\n",
        "mean_column = test_t.mean(axis=1)\n",
        "x=mean_column.index[::-1]\n",
        "y=mean_column.values\n",
        "xlabels= []\n",
        "for idx in x:\n",
        " strf=\"k1,k2= \"+  str(idx)\n",
        " xlabels.append(strf)\n",
        "plt.xticks(np.arange(len(xlabels)), xlabels,rotation=90)\n",
        "plt.bar(x, y)\n",
        "plt.ylim(0.750, 0.950)\n",
        "plt.ylabel('Mean accuracy')\n",
        "\n",
        "plt.show() \n"
      ],
      "execution_count": 0,
      "outputs": [
        {
          "output_type": "display_data",
          "data": {
            "image/png": "[encoded data removed]",
            "text/plain": [
              "<Figure size 1080x288 with 2 Axes>"
            ]
          },
          "metadata": {
            "tags": []
          }
        }
      ]
    },
    {
      "cell_type": "code",
      "metadata": {
        "id": "KP2Nm9TWmy2B",
        "colab_type": "code",
        "colab": {}
      },
      "source": [
        ""
      ],
      "execution_count": 0,
      "outputs": []
    }
  ]
}